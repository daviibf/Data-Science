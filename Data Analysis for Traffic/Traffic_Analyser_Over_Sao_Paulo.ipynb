{
 "cells": [
  {
   "cell_type": "markdown",
   "metadata": {},
   "source": [
    "# Interpretation and Visualization of Traffic Data. \n",
    "- Database of traffic radars in the city of São Paulo, Brazil.\n",
    "- Import of data/traffic_data.feather"
   ]
  },
  {
   "cell_type": "markdown",
   "metadata": {},
   "source": [
    "## 1 - Import the Dataset"
   ]
  },
  {
   "cell_type": "markdown",
   "metadata": {},
   "source": [
    "**Feather** is an optimized data storing format. Thus, in order to use it, it is necessary to import its API.\n",
    "\n",
    "The *feather()* method already imports the dataser as a Pandas.DataFrame"
   ]
  },
  {
   "cell_type": "code",
   "execution_count": 1,
   "metadata": {},
   "outputs": [],
   "source": [
    "# jupyter notebook --NotebookApp.iopub_data_rate_limit=1e10\n",
    "# import\n",
    "import feather\n",
    "\n",
    "# Dataset reading\n",
    "path = 'data/traffic_data.feather'\n",
    "df = feather.read_dataframe(path)"
   ]
  },
  {
   "cell_type": "code",
   "execution_count": 2,
   "metadata": {},
   "outputs": [
    {
     "data": {
      "text/html": [
       "<div>\n",
       "<style scoped>\n",
       "    .dataframe tbody tr th:only-of-type {\n",
       "        vertical-align: middle;\n",
       "    }\n",
       "\n",
       "    .dataframe tbody tr th {\n",
       "        vertical-align: top;\n",
       "    }\n",
       "\n",
       "    .dataframe thead th {\n",
       "        text-align: right;\n",
       "    }\n",
       "</style>\n",
       "<table border=\"1\" class=\"dataframe\">\n",
       "  <thead>\n",
       "    <tr style=\"text-align: right;\">\n",
       "      <th></th>\n",
       "      <th>index</th>\n",
       "      <th>passage</th>\n",
       "      <th>direction</th>\n",
       "      <th>type</th>\n",
       "      <th>region</th>\n",
       "      <th>timestamp</th>\n",
       "      <th>jam_size</th>\n",
       "      <th>segment</th>\n",
       "    </tr>\n",
       "  </thead>\n",
       "  <tbody>\n",
       "    <tr>\n",
       "      <th>0</th>\n",
       "      <td>0</td>\n",
       "      <td>Jânio Quadros, Túnel</td>\n",
       "      <td>unico//</td>\n",
       "      <td>NaN</td>\n",
       "      <td>OESTE</td>\n",
       "      <td>2015-01-04 14:30:00</td>\n",
       "      <td>799</td>\n",
       "      <td>De OSCAR AMERICANO até  JUSCELINO KUBITSCHEK</td>\n",
       "    </tr>\n",
       "    <tr>\n",
       "      <th>1</th>\n",
       "      <td>1</td>\n",
       "      <td>Juscelino Kubitschek, Av Pres</td>\n",
       "      <td>Ibirapuera/Pinheiros</td>\n",
       "      <td>NaN</td>\n",
       "      <td>SUL</td>\n",
       "      <td>2015-01-04 14:30:00</td>\n",
       "      <td>260</td>\n",
       "      <td>De  Emboque Túnel Jânio Quadros até 290 m depo...</td>\n",
       "    </tr>\n",
       "    <tr>\n",
       "      <th>2</th>\n",
       "      <td>2</td>\n",
       "      <td>Jânio Quadros, Túnel</td>\n",
       "      <td>unico//</td>\n",
       "      <td>NaN</td>\n",
       "      <td>OESTE</td>\n",
       "      <td>2015-01-04 15:00:00</td>\n",
       "      <td>799</td>\n",
       "      <td>De OSCAR AMERICANO até  JUSCELINO KUBITSCHEK</td>\n",
       "    </tr>\n",
       "    <tr>\n",
       "      <th>3</th>\n",
       "      <td>3</td>\n",
       "      <td>Juscelino Kubitschek, Av Pres</td>\n",
       "      <td>Ibirapuera/Pinheiros</td>\n",
       "      <td>NaN</td>\n",
       "      <td>SUL</td>\n",
       "      <td>2015-01-04 15:00:00</td>\n",
       "      <td>260</td>\n",
       "      <td>De  Emboque Túnel Jânio Quadros até 290 m depo...</td>\n",
       "    </tr>\n",
       "    <tr>\n",
       "      <th>4</th>\n",
       "      <td>4</td>\n",
       "      <td>Jânio Quadros, Túnel</td>\n",
       "      <td>unico//</td>\n",
       "      <td>NaN</td>\n",
       "      <td>OESTE</td>\n",
       "      <td>2015-01-04 15:30:00</td>\n",
       "      <td>799</td>\n",
       "      <td>De OSCAR AMERICANO até  JUSCELINO KUBITSCHEK</td>\n",
       "    </tr>\n",
       "    <tr>\n",
       "      <th>...</th>\n",
       "      <td>...</td>\n",
       "      <td>...</td>\n",
       "      <td>...</td>\n",
       "      <td>...</td>\n",
       "      <td>...</td>\n",
       "      <td>...</td>\n",
       "      <td>...</td>\n",
       "      <td>...</td>\n",
       "    </tr>\n",
       "    <tr>\n",
       "      <th>5223443</th>\n",
       "      <td>230195</td>\n",
       "      <td>Marginal Pinheiros</td>\n",
       "      <td>Interlagos/Castelo</td>\n",
       "      <td>A</td>\n",
       "      <td>OESTE</td>\n",
       "      <td>2018-09-30 18:30:00</td>\n",
       "      <td>3820</td>\n",
       "      <td>De CIDADE UNIVERSITARIA até 350 m depois de JU...</td>\n",
       "    </tr>\n",
       "    <tr>\n",
       "      <th>5223444</th>\n",
       "      <td>230196</td>\n",
       "      <td>Marginal Pinheiros</td>\n",
       "      <td>Interlagos/Castelo</td>\n",
       "      <td>E</td>\n",
       "      <td>OESTE</td>\n",
       "      <td>2018-09-30 19:00:00</td>\n",
       "      <td>4640</td>\n",
       "      <td>De CIDADE UNIVERSITARIA até 700 m depois de QU...</td>\n",
       "    </tr>\n",
       "    <tr>\n",
       "      <th>5223445</th>\n",
       "      <td>230197</td>\n",
       "      <td>Marginal Pinheiros</td>\n",
       "      <td>Interlagos/Castelo</td>\n",
       "      <td>A</td>\n",
       "      <td>OESTE</td>\n",
       "      <td>2018-09-30 19:00:00</td>\n",
       "      <td>3820</td>\n",
       "      <td>De CIDADE UNIVERSITARIA até 350 m depois de JU...</td>\n",
       "    </tr>\n",
       "    <tr>\n",
       "      <th>5223446</th>\n",
       "      <td>230198</td>\n",
       "      <td>Marginal Pinheiros</td>\n",
       "      <td>Interlagos/Castelo</td>\n",
       "      <td>E</td>\n",
       "      <td>OESTE</td>\n",
       "      <td>2018-09-30 19:30:00</td>\n",
       "      <td>4640</td>\n",
       "      <td>De CIDADE UNIVERSITARIA até 700 m depois de QU...</td>\n",
       "    </tr>\n",
       "    <tr>\n",
       "      <th>5223447</th>\n",
       "      <td>230199</td>\n",
       "      <td>Marginal Pinheiros</td>\n",
       "      <td>Interlagos/Castelo</td>\n",
       "      <td>A</td>\n",
       "      <td>OESTE</td>\n",
       "      <td>2018-09-30 19:30:00</td>\n",
       "      <td>3820</td>\n",
       "      <td>De CIDADE UNIVERSITARIA até 350 m depois de JU...</td>\n",
       "    </tr>\n",
       "  </tbody>\n",
       "</table>\n",
       "<p>5223448 rows × 8 columns</p>\n",
       "</div>"
      ],
      "text/plain": [
       "          index                                   passage  \\\n",
       "0             0  Jânio Quadros, Túnel                       \n",
       "1             1  Juscelino Kubitschek, Av Pres              \n",
       "2             2  Jânio Quadros, Túnel                       \n",
       "3             3  Juscelino Kubitschek, Av Pres              \n",
       "4             4  Jânio Quadros, Túnel                       \n",
       "...         ...                                       ...   \n",
       "5223443  230195  Marginal Pinheiros                         \n",
       "5223444  230196  Marginal Pinheiros                         \n",
       "5223445  230197  Marginal Pinheiros                         \n",
       "5223446  230198  Marginal Pinheiros                         \n",
       "5223447  230199  Marginal Pinheiros                         \n",
       "\n",
       "                                        direction type region  \\\n",
       "0        unico//                                   NaN  OESTE   \n",
       "1        Ibirapuera/Pinheiros                      NaN    SUL   \n",
       "2        unico//                                   NaN  OESTE   \n",
       "3        Ibirapuera/Pinheiros                      NaN    SUL   \n",
       "4        unico//                                   NaN  OESTE   \n",
       "...                                           ...  ...    ...   \n",
       "5223443  Interlagos/Castelo                          A  OESTE   \n",
       "5223444  Interlagos/Castelo                          E  OESTE   \n",
       "5223445  Interlagos/Castelo                          A  OESTE   \n",
       "5223446  Interlagos/Castelo                          E  OESTE   \n",
       "5223447  Interlagos/Castelo                          A  OESTE   \n",
       "\n",
       "                  timestamp  jam_size  \\\n",
       "0       2015-01-04 14:30:00       799   \n",
       "1       2015-01-04 14:30:00       260   \n",
       "2       2015-01-04 15:00:00       799   \n",
       "3       2015-01-04 15:00:00       260   \n",
       "4       2015-01-04 15:30:00       799   \n",
       "...                     ...       ...   \n",
       "5223443 2018-09-30 18:30:00      3820   \n",
       "5223444 2018-09-30 19:00:00      4640   \n",
       "5223445 2018-09-30 19:00:00      3820   \n",
       "5223446 2018-09-30 19:30:00      4640   \n",
       "5223447 2018-09-30 19:30:00      3820   \n",
       "\n",
       "                                                   segment  \n",
       "0             De OSCAR AMERICANO até  JUSCELINO KUBITSCHEK  \n",
       "1        De  Emboque Túnel Jânio Quadros até 290 m depo...  \n",
       "2             De OSCAR AMERICANO até  JUSCELINO KUBITSCHEK  \n",
       "3        De  Emboque Túnel Jânio Quadros até 290 m depo...  \n",
       "4             De OSCAR AMERICANO até  JUSCELINO KUBITSCHEK  \n",
       "...                                                    ...  \n",
       "5223443  De CIDADE UNIVERSITARIA até 350 m depois de JU...  \n",
       "5223444  De CIDADE UNIVERSITARIA até 700 m depois de QU...  \n",
       "5223445  De CIDADE UNIVERSITARIA até 350 m depois de JU...  \n",
       "5223446  De CIDADE UNIVERSITARIA até 700 m depois de QU...  \n",
       "5223447  De CIDADE UNIVERSITARIA até 350 m depois de JU...  \n",
       "\n",
       "[5223448 rows x 8 columns]"
      ]
     },
     "execution_count": 2,
     "metadata": {},
     "output_type": "execute_result"
    }
   ],
   "source": [
    "# Dataframe\n",
    "df"
   ]
  },
  {
   "cell_type": "markdown",
   "metadata": {},
   "source": [
    "## 2 - Null Data\n",
    "\n",
    "- Make an analysis of the null data for each column.\n",
    "\n",
    "- In each case, what would you do to solve the problem of null data?"
   ]
  },
  {
   "cell_type": "code",
   "execution_count": 3,
   "metadata": {},
   "outputs": [
    {
     "data": {
      "text/plain": [
       "index              0\n",
       "passage            0\n",
       "direction          0\n",
       "type         3323735\n",
       "region       2509341\n",
       "timestamp          0\n",
       "jam_size           0\n",
       "segment            0\n",
       "dtype: int64"
      ]
     },
     "execution_count": 3,
     "metadata": {},
     "output_type": "execute_result"
    }
   ],
   "source": [
    "# So, in order to better understand the data scenario and the missing NaN values,\n",
    "# we print the amount of NaN values per column.\n",
    "df.isnull().sum()"
   ]
  },
  {
   "cell_type": "code",
   "execution_count": 4,
   "metadata": {},
   "outputs": [
    {
     "name": "stdout",
     "output_type": "stream",
     "text": [
      "Percentage of NaN in Type:  0.6363105366416972\n",
      "Percentage of NaN in Region:  0.4803993454132213\n"
     ]
    }
   ],
   "source": [
    "# And we calculate the percentage of missing values for Type and Region.\n",
    "\n",
    "# Total number of lines\n",
    "N = df.shape[0]\n",
    "\n",
    "# Amount of missing values for Type and Region\n",
    "type_NaN = df.isnull().sum()['type']\n",
    "region_NaN = df.isnull().sum()['region']\n",
    "\n",
    "# Influence of the Database NaN values\n",
    "print('Percentage of NaN in Type: ', type_NaN/N)\n",
    "print('Percentage of NaN in Region: ', region_NaN/N)"
   ]
  },
  {
   "cell_type": "markdown",
   "metadata": {},
   "source": [
    "Thus, we can see that almost half of the values in Region, and more than half of the values of Type, are NaN."
   ]
  },
  {
   "cell_type": "markdown",
   "metadata": {},
   "source": [
    "There are 4 main approaches when it comes to missing values. **Replacement by a Sparse Matrix**, **Disregard of the lines with NaN**, **Disregard of the Columns with NaN** and **Replacement of the missing values by a fixed value**.\n",
    "\n",
    "Due to the amount of missing values in both cases, if we decided to exclude all lines that have\n",
    "At NaN's, we would end up reducing our Dataset a lot."
   ]
  },
  {
   "cell_type": "code",
   "execution_count": 5,
   "metadata": {},
   "outputs": [
    {
     "data": {
      "text/plain": [
       "(5223448, 6)"
      ]
     },
     "execution_count": 5,
     "metadata": {},
     "output_type": "execute_result"
    }
   ],
   "source": [
    "# Our first approach will be to exclude both problematic columns.\n",
    "df_clean_cols = df.dropna(axis = 1)\n",
    "df_clean_cols.shape"
   ]
  },
  {
   "cell_type": "code",
   "execution_count": 6,
   "metadata": {},
   "outputs": [
    {
     "data": {
      "text/plain": [
       "region\n",
       "CENTRO      811594\n",
       "LESTE       410407\n",
       "NORTE       138176\n",
       "OESTE       732056\n",
       "SUL         621874\n",
       "NOWHERE    2509341\n",
       "Name: index, dtype: int64"
      ]
     },
     "execution_count": 6,
     "metadata": {},
     "output_type": "execute_result"
    }
   ],
   "source": [
    "# The second approach is to exclude the Type column, which is mostly comprised of missing values, and replace\n",
    "# the missing values of Region by a common value, which in this case is 'NOWHERE'.\n",
    "df_typeless = df.drop(columns=['type'])\n",
    "df_typeless['region'] = df_typeless['region'].cat.add_categories(\"NOWHERE\").fillna(\"NOWHERE\")\n",
    "df_typeless.groupby([\"region\"])[\"index\"].count()"
   ]
  },
  {
   "cell_type": "code",
   "execution_count": 7,
   "metadata": {},
   "outputs": [
    {
     "data": {
      "text/plain": [
       "(590619, 8)"
      ]
     },
     "execution_count": 7,
     "metadata": {},
     "output_type": "execute_result"
    }
   ],
   "source": [
    "# Finally, we also disregard any missing values. This generates a very small database\n",
    "# compared to the original, but which nevertheless has no problematic features.\n",
    "df_clean = df.copy()\n",
    "df_clean.dropna(inplace=True)\n",
    "df_clean.shape"
   ]
  },
  {
   "cell_type": "markdown",
   "metadata": {},
   "source": [
    "## Analyze:\n",
    "\n",
    "The approach that makes the most sense in my opinion is to create one more category to replace the missing Region values, and exclude the Type column. Thus, we disregard the column, which is mostly null data, while trying to take advantage of the information in the Region column, which is more influential, and which may therefore end up adding useful information to our analysis."
   ]
  },
  {
   "cell_type": "markdown",
   "metadata": {},
   "source": [
    "## 3 - Categorical Data\n",
    "\n",
    "- Perform a processing on categorical data in order to transform them into numeric ones. Justify your answer."
   ]
  },
  {
   "cell_type": "markdown",
   "metadata": {},
   "source": [
    "#### A maioria das features do nosso dataset consitem em dados categóricos. Assim, precisamos convertê-los para numéricos."
   ]
  },
  {
   "cell_type": "code",
   "execution_count": 8,
   "metadata": {},
   "outputs": [
    {
     "name": "stdout",
     "output_type": "stream",
     "text": [
      "Distinct Categories: \n",
      "\n",
      " Marginal Tietê                              485266\n",
      "Marginal Pinheiros                          384524\n",
      "Rebouças/ Eusébio Matoso,  Av               284365\n",
      "Vinte Três/R Berta/M Guimarães              234456\n",
      "Bandeirantes, Av dos                        160346\n",
      "                                             ...  \n",
      "Pinedo, Av de                                    2\n",
      "Outeiro, Av NSra do                              2\n",
      "Salim F Maluf, Av/Tatuapé, Pt (N USAR)           1\n",
      "Vale/P.Maia/Tirad/S.Dumont  (NÃO USAR)           1\n",
      "José Garzotti, Av. Pe                            1\n",
      "Name: passage, Length: 276, dtype: int64\n",
      "\n",
      "\n",
      " We have a total of 276 different passages names\n"
     ]
    }
   ],
   "source": [
    "# Let's start with the feature passage first:\n",
    "print('Distinct Categories: \\n\\n', df_typeless['passage'].value_counts())\n",
    "print('\\n\\n We have a total of %i different passages names' % df_typeless['passage'].value_counts().count())\n",
    "\n",
    "# With that, we need to create a dictionary for all of these names.\n",
    "labels = df_typeless['passage'].astype('category').cat.categories.tolist()\n",
    "dictio_passage = {'passage' : {k: v for k,v in zip(labels,list(range(1,len(labels)+1)))}}"
   ]
  },
  {
   "cell_type": "code",
   "execution_count": 9,
   "metadata": {},
   "outputs": [
    {
     "name": "stdout",
     "output_type": "stream",
     "text": [
      "{'passage': {'Abraão Ribeiro, Av Dr (F)               ': 1, 'Abraão de Morais, Av Prof/Imig          ': 2, 'Abraão de Morais, Av Prof/Imigrantes (F)': 3, 'Adolfo Pinheiro e Lgo 13/05             ': 4, 'Aliomar Baleeiro, Vd Min                ': 5, 'Aliomar Baleeiro, Vd Min (F)            ': 6, 'Alvarenga, R                            ': 7, 'Amaro, Al  Sto                          ': 8, 'Amaro, Av  Sto  (F)                     ': 9, 'Amaro, Av Sto (Pavao/Nebraska) (F)      ': 10, 'Amaro, Av Sto - DEC SA (F)              ': 11, 'Amaro, Av Sto DEC IB                    ': 12, 'Amaro, Av Sto DEC SA                    ': 13, 'Anchieta, Via                           ': 14, 'Angélica, Av                            ': 15, 'Angélica, Av (F)                        ': 16, 'Antonio Nakashima, Vd                   ': 17, 'Antártica, Vd                           ': 18, 'Antônio Joaquim de Moura Andrade, Av    ': 19, 'Arcoverde, R Card                       ': 20, 'Arcoverde, R Cardeal (F)                ': 21, 'Aricanduva, Av/Elev/Pt                  ': 22, 'Aricanduva/Elevado/Ponte( F)            ': 23, 'Arnaldo,  Av Dr                         ': 24, 'Arthur da Costa e Silva, Elev Pres      ': 25, 'Ary Torres, Eng. Pte                    ': 26, 'Asc.Reis/R.Berta(Local)                 ': 27, 'Ataliba Leonel, Av. Gal.                ': 28, 'Atilio Fontana, Pte                     ': 29, 'Atlantica, AV                           ': 30, 'Ayrton Senna I, Tn (NÃO USAR)           ': 31, 'Ayrton Senna I, Túnel                   ': 32, 'Ayrton Senna II,  Túnel                 ': 33, 'Bandeirantes, Av dos                    ': 34, 'Bento, Lgo São                          ': 35, 'Bernardino/Verg/Noe/Domingos/Jabaquara  ': 36, 'Bernardo Goldfarb, Pte                  ': 37, 'Brasil, Av                              ': 38, 'Brás Leme, Av / Pte Casa Verde          ': 39, 'Butantã, R                              ': 40, 'Butantã, R  (F)                         ': 41, 'CJardim/Europa, Av/Colômbia, R (F)      ': 42, 'Caetano Alvares, Av. Eng.               ': 43, 'Camargo, R                              ': 44, 'Carlos Caldeira Filho, Av               ': 45, 'Carrão,  Av Cons   (F)                  ': 46, 'Carrão, Av Cons                         ': 47, 'Casa Verde, Pte e Av Bras Leme (F)      ': 48, 'Catiguá, R / Melo Peixoto, R (F)        ': 49, 'Celso Garcia, Av                        ': 50, 'Chucri Zaidan, Av Dr                    ': 51, 'Chucri Zaidan, Av Dr  (F)               ': 52, 'Cidade Jardim / Europa / Colômbia       ': 53, 'Cidade Universitária, Pt                ': 54, 'Cidade Universitária, Pte (F)           ': 55, 'Clelia, R (F)                           ': 56, 'Clélia, R                               ': 57, 'Consolação, R da                        ': 58, 'Consolação, R da   (F)                  ': 59, 'Copa-Afonso de S. Souza/Harry Dannemberg': 60, 'Copa-Aguia de Haia                      ': 61, 'Copa-Aguia de Haia (F)                  ': 62, 'Copa-Campanella                         ': 63, 'Copa-Itaquera/Lider                     ': 64, 'Copa-Jacu Pessêgo-N. Trabalhadores      ': 65, 'Copa-Luiz Ayres                         ': 66, 'Copa-Pires do Rio                       ': 67, 'Corifeu de A Marques, Av                ': 68, 'Corifeu de Azevedo Marques, Av  (F)     ': 69, 'Cruzeiro do Sul, Pt e Av                ': 70, 'Cruzeiro do Sul, Pte e Av  (F)          ': 71, 'Dianópolis, Av                          ': 72, 'Dianópolis, Av  (F)                     ': 73, 'Diário Popular, Vd                      ': 74, 'Dom Pedro (Av Exterior) Pq              ': 75, 'Dom Pedro (Av do Exterior), Parque (F)  ': 76, 'Edgar Facó, Av.                         ': 77, 'Eliseu de Almeida, Av                   ': 78, 'Ermano Marchetti, Av                    ': 79, 'Escola Politécnica, Av                  ': 80, 'Estado, Av do - DEC CT                  ': 81, 'Estado, Av do - DEC VILA PRUDENTE       ': 82, 'Estela, R                               ': 83, 'Eusébio M/Francisco Morato, Av Prof     ': 84, 'Eusébio Stevaux, Vd                     ': 85, 'F1 - Jacinto Júlio, Av                  ': 86, 'F1 - Jangadeiro, Av                     ': 87, 'F1 - João Paulo da Silva, Av            ': 88, 'F1 - Miguel Yunes/Pte Vitorino Goulart  ': 89, 'F1 - Papini, Av Prof                    ': 90, 'F1 - Rio Bonito, Av                     ': 91, 'F1 - Rubens Montanaro de Borba, Av      ': 92, 'F1 - Teotonio Vilela, Av Sen            ': 93, 'Faria Lima,  Av Brig                    ': 94, 'Fernando Vieira de Mello Túnel(Reboucas)': 95, 'Ferradura                               ': 96, 'Figueira, R da                          ': 97, 'Francisco Matarazzo, Av                 ': 98, 'Francisco Matarazzo, Av  (F)            ': 99, 'Francisco Mesquita, Av Dr               ': 100, 'Francisco Morato, Av Prof               ': 101, 'Frederico Eduardo Mayr, Vd              ': 102, 'Freguesia, Pte                          ': 103, 'Freguesia/Com Martinelli, Pte  (F)      ': 104, 'Gabriel,  Av São (F)                    ': 105, 'Gabriel, Av São                         ': 106, 'Gastão Vidigal, Av Dr                   ': 107, 'Gastão Vidigal, Av Dr (F)               ': 108, 'Gasômetro, R e Vd                       ': 109, 'Gazeta do Ipiranga, Vd                  ': 110, 'Grande Sao Paulo, Vd                    ': 111, 'Groenlandia, R                          ': 112, 'Guadalajara, Vd                         ': 113, 'Guaicurus, R                            ': 114, 'Guaicurus, R (F)                        ': 115, 'Guarapiranga, Av                        ': 116, 'Guido Caloi, Av                         ': 117, 'Guilherme Dumont Vilares, Av Dr         ': 118, 'Heitor Penteado, R                      ': 119, 'Ibirapuera, Av                          ': 120, 'Ibirapuera, Av  (F)                     ': 121, 'Ibitirama, R                            ': 122, 'Iguatemi, R                             ': 123, 'Iguatemi, R  (F)                        ': 124, 'Inajar de Souza, Av                     ': 125, 'Inajar de Souza, Av (F)                 ': 126, 'Interlagos, Av  I                       ': 127, 'Ipiranga, Av                            ': 128, 'Itapecerica, Est de                     ': 129, 'Itapecirica, Est de  (F)                ': 130, 'Itápolis, R                             ': 131, 'Jacinto Júlio, Av                       ': 132, 'Jaguare, Av                             ': 133, 'Jaguaré, Pte                            ': 134, 'Jangadeiro, Av                          ': 135, 'Jose Colassuono, Vd                     ': 136, 'Jose Felix, R                           ': 137, 'José Diniz,  Av Ver  (F)                ': 138, 'José Diniz, Av Ver                      ': 139, 'José Garzotti, Av. Pe                   ': 140, 'José Maria,  Av Pe                      ': 141, 'João De Luca, Ver                       ': 142, 'João Dias, Av                           ': 143, 'João Dias, Av (F)                       ': 144, 'João Goulart, Elev Pres                 ': 145, 'João Jorge Saad,Vd (Cebolinha)          ': 146, 'João Mendes, Pça                        ': 147, 'João Paulo da Silva, Av                 ': 148, 'João, Av São                            ': 149, 'Julio de Mesquita, Pte                  ': 150, 'Juntas Provisórias, R das               ': 151, 'Juscelino Kubitschek, Av Pres           ': 152, 'Jânio Quadros, Pres. Pte (Vila Maria)   ': 153, 'Jânio Quadros, Túnel                    ': 154, 'Lapa, Vd                                ': 155, 'Liberdade/ Vergueiro, Av                ': 156, 'Ligação - Dec HG (F)                    ': 157, 'Ligação Leste-Oeste                     ': 158, 'Limão / Av. Ordem e Progresso, Pte      ': 159, 'Limão, Pt/Ordem e Progresso, Av (N USAR)': 160, 'Lineu de Paula Machado, Av              ': 161, 'Luis Antonio, Av Brig                   ': 162, 'Luis Antonio, Av Brig.   Dec-PA  (F)    ': 163, 'Luis Carlos Berrini, Av Eng             ': 164, 'Luis Carlos Berrini,Eng Av (F)          ': 165, 'Luis, Av. São                           ': 166, 'Luiz Ignácio de Anhaia Mello, Av Prof   ': 167, 'M Paula, R/Jacarei/n Julho, Vd (F)      ': 168, 'M.M.D.C, R                              ': 169, 'Manuel de Teffé, R                      ': 170, 'Marginal Pinheiros                      ': 171, 'Marginal Tietê                          ': 172, 'Marginal Tietê - Pista Central          ': 173, 'Maria Coelho Aguiar, Av                 ': 174, 'Maria Maluf, CV                         ': 175, 'Maria Paula/Vd Jacareí/Vd 9 de Julho    ': 176, 'Matriz, R da                            ': 177, 'Max Feffer Túnel (Cidade Jardim)        ': 178, 'Melo Peixoto, R                         ': 179, 'Melo Peixoto, R (F)                     ': 180, 'Mercúrio, Av                            ': 181, 'Miguel Estefano,VD                      ': 182, 'Miguel Yunes/Pte Vitorino Goulart       ': 183, 'Morumbi, Av                             ': 184, 'Morumbi, Av. e Pte                      ': 185, 'M´Boi Mirim, Est                        ': 186, 'Natanael,  R Mj (F)                     ': 187, 'Nova Morumbi, Pte (F)                   ': 188, 'Nove de Julho, Av                       ': 189, 'Nove de Julho, Av (F)                   ': 190, 'Nove de Julho, Av - DEC PA  (F)         ': 191, 'Olivia Guedes Penteado, R               ': 192, 'Oscar Americano, R Eng                  ': 193, 'Oscar Americano, R Eng  (F)             ': 194, 'Outeiro, Av NSra do                     ': 195, 'Pacaembu / Mj Natanael / Abraao Ribeiro ': 196, 'Pacaembu, Vd (F)                        ': 197, 'Pacheco e Chaves, Cap. Vd               ': 198, 'Pacheco e Chaves, R Cap                 ': 199, 'Papini, Av Prof                         ': 200, 'Paulina, Vd Dona                        ': 201, 'Paulina, Vd Dona  (F)                   ': 202, 'Paulista, Av                            ': 203, 'Paulo Eiró, R                           ': 204, 'Paulo VI, Av                            ': 205, 'Pedro Alvares Cabral, Av                ': 206, 'Pedro Alvares Cabral, Av  (F)           ': 207, 'Pedro I, Av. Dom                        ': 208, 'Pinedo, Av de                           ': 209, 'Piqueri, Pt                             ': 210, 'Piqueri, Pte (F)                        ': 211, 'Pirajussara, Av                         ': 212, 'Pompeia, Vd                             ': 213, 'Queiroz Filho /Jaguaré, Pte             ': 214, 'Queiroz, Av. Sen.                       ': 215, 'Radial Leste - DEC BR                   ': 216, 'Radial Leste - DEC MO                   ': 217, 'Raimundo Pereira Magalhaes, Av          ': 218, 'Raimundo Pereira de Magalhães - Norte   ': 219, 'Raimundo Pereira de Magalhães - Sul     ': 220, 'Rangel Pestana, Av (F)                  ': 221, 'Rangel Pestana, Av DEC BR               ': 222, 'Rangel Pestana, Av DEC CT               ': 223, 'Raposo Tavares, Via                     ': 224, 'Reação, R                               ': 225, 'Rebouças/ Eusébio Matoso,  Av           ': 226, 'Remédios, Pte                           ': 227, 'Republica da Armenia, Vd                ': 228, 'República do Líbano, Av                 ': 229, 'República do Líbano, Av  (F)            ': 230, 'Ribeiro Lacerda, R                      ': 231, 'Ricardo Jafet, Av                       ': 232, 'Rio Bonito, Av                          ': 233, 'Rio Branco,  Br do                      ': 234, 'Rio Branco, Av                          ': 235, 'Robert Kennedy, Av                      ': 236, 'Roberto Abreu Sodré, Vd                 ': 237, 'Roque Petroni Júnior, Av                ': 238, 'Roque Petroni Júnior, Av (F)            ': 239, 'Rudge, Av/Orlando Murgel, Vd            ': 240, 'Rudge, Av/Orlando Murgel, Vd (F)        ': 241, 'S.Vicente, Av Marques de (F)            ': 242, 'Sabará, Av NSra do                      ': 243, 'Salim F Maluf, Av/Tatuapé, Pt (N USAR)  ': 244, 'Salim Farah Maluf, Av/Tatuapé, Pte      ': 245, 'Sapetuba, R                             ': 246, 'Sebastião Camargo, Túnel                ': 247, 'Socorro, Pte                            ': 248, 'Sumaré, Av                              ': 249, 'Susana Rodrigues, R                     ': 250, 'São Vicente, Av Marq de                 ': 251, 'Sé, Pça da                              ': 252, 'Tabapua,R  (F)                          ': 253, 'Tabapuã, R                              ': 254, 'Tajurás, Av dos                         ': 255, 'Tancredo Neves, Av                      ': 256, 'Teodoro Sampaio, R                      ': 257, 'Teotonio Vilela, Av Sen                 ': 258, 'Transamérica, Pte                       ': 259, 'Trib de Justiça, Túnel                  ': 260, 'Trinta e Um de Março, Vd                ': 261, 'Vale/P.Maia/Tirad/S.Dumont              ': 262, 'Vale/P.Maia/Tirad/S.Dumont  (NÃO USAR)  ': 263, 'Valerio, Av São                         ': 264, 'Vicente Rao, Av Prof                    ': 265, 'Vicente Rao, Av Prof  (F)               ': 266, 'Vila Guilherme, Pte                     ': 267, 'Vila Matilde, Vd                        ': 268, 'Vinte Três/R Berta/M Guim (NÃO USAR)    ': 269, 'Vinte Três/R Berta/M Guimarães          ': 270, 'Vinte e Cinco de Março, Vd              ': 271, 'Vital Brasil, Av                        ': 272, 'Vitor Manzini, Av                       ': 273, 'Washington Luis, Av                     ': 274, 'XXX                                     ': 275, 'Xangai, Vd                              ': 276}}\n"
     ]
    }
   ],
   "source": [
    "# Passage Dictionary\n",
    "print(dictio_passage)"
   ]
  },
  {
   "cell_type": "code",
   "execution_count": 10,
   "metadata": {},
   "outputs": [
    {
     "data": {
      "text/html": [
       "<div>\n",
       "<style scoped>\n",
       "    .dataframe tbody tr th:only-of-type {\n",
       "        vertical-align: middle;\n",
       "    }\n",
       "\n",
       "    .dataframe tbody tr th {\n",
       "        vertical-align: top;\n",
       "    }\n",
       "\n",
       "    .dataframe thead th {\n",
       "        text-align: right;\n",
       "    }\n",
       "</style>\n",
       "<table border=\"1\" class=\"dataframe\">\n",
       "  <thead>\n",
       "    <tr style=\"text-align: right;\">\n",
       "      <th></th>\n",
       "      <th>index</th>\n",
       "      <th>passage</th>\n",
       "      <th>direction</th>\n",
       "      <th>region</th>\n",
       "      <th>timestamp</th>\n",
       "      <th>jam_size</th>\n",
       "      <th>segment</th>\n",
       "    </tr>\n",
       "  </thead>\n",
       "  <tbody>\n",
       "    <tr>\n",
       "      <th>0</th>\n",
       "      <td>0</td>\n",
       "      <td>154</td>\n",
       "      <td>unico//</td>\n",
       "      <td>OESTE</td>\n",
       "      <td>2015-01-04 14:30:00</td>\n",
       "      <td>799</td>\n",
       "      <td>De OSCAR AMERICANO até  JUSCELINO KUBITSCHEK</td>\n",
       "    </tr>\n",
       "    <tr>\n",
       "      <th>1</th>\n",
       "      <td>1</td>\n",
       "      <td>152</td>\n",
       "      <td>Ibirapuera/Pinheiros</td>\n",
       "      <td>SUL</td>\n",
       "      <td>2015-01-04 14:30:00</td>\n",
       "      <td>260</td>\n",
       "      <td>De  Emboque Túnel Jânio Quadros até 290 m depo...</td>\n",
       "    </tr>\n",
       "    <tr>\n",
       "      <th>2</th>\n",
       "      <td>2</td>\n",
       "      <td>154</td>\n",
       "      <td>unico//</td>\n",
       "      <td>OESTE</td>\n",
       "      <td>2015-01-04 15:00:00</td>\n",
       "      <td>799</td>\n",
       "      <td>De OSCAR AMERICANO até  JUSCELINO KUBITSCHEK</td>\n",
       "    </tr>\n",
       "    <tr>\n",
       "      <th>3</th>\n",
       "      <td>3</td>\n",
       "      <td>152</td>\n",
       "      <td>Ibirapuera/Pinheiros</td>\n",
       "      <td>SUL</td>\n",
       "      <td>2015-01-04 15:00:00</td>\n",
       "      <td>260</td>\n",
       "      <td>De  Emboque Túnel Jânio Quadros até 290 m depo...</td>\n",
       "    </tr>\n",
       "    <tr>\n",
       "      <th>4</th>\n",
       "      <td>4</td>\n",
       "      <td>154</td>\n",
       "      <td>unico//</td>\n",
       "      <td>OESTE</td>\n",
       "      <td>2015-01-04 15:30:00</td>\n",
       "      <td>799</td>\n",
       "      <td>De OSCAR AMERICANO até  JUSCELINO KUBITSCHEK</td>\n",
       "    </tr>\n",
       "    <tr>\n",
       "      <th>...</th>\n",
       "      <td>...</td>\n",
       "      <td>...</td>\n",
       "      <td>...</td>\n",
       "      <td>...</td>\n",
       "      <td>...</td>\n",
       "      <td>...</td>\n",
       "      <td>...</td>\n",
       "    </tr>\n",
       "    <tr>\n",
       "      <th>5223443</th>\n",
       "      <td>230195</td>\n",
       "      <td>171</td>\n",
       "      <td>Interlagos/Castelo</td>\n",
       "      <td>OESTE</td>\n",
       "      <td>2018-09-30 18:30:00</td>\n",
       "      <td>3820</td>\n",
       "      <td>De CIDADE UNIVERSITARIA até 350 m depois de JU...</td>\n",
       "    </tr>\n",
       "    <tr>\n",
       "      <th>5223444</th>\n",
       "      <td>230196</td>\n",
       "      <td>171</td>\n",
       "      <td>Interlagos/Castelo</td>\n",
       "      <td>OESTE</td>\n",
       "      <td>2018-09-30 19:00:00</td>\n",
       "      <td>4640</td>\n",
       "      <td>De CIDADE UNIVERSITARIA até 700 m depois de QU...</td>\n",
       "    </tr>\n",
       "    <tr>\n",
       "      <th>5223445</th>\n",
       "      <td>230197</td>\n",
       "      <td>171</td>\n",
       "      <td>Interlagos/Castelo</td>\n",
       "      <td>OESTE</td>\n",
       "      <td>2018-09-30 19:00:00</td>\n",
       "      <td>3820</td>\n",
       "      <td>De CIDADE UNIVERSITARIA até 350 m depois de JU...</td>\n",
       "    </tr>\n",
       "    <tr>\n",
       "      <th>5223446</th>\n",
       "      <td>230198</td>\n",
       "      <td>171</td>\n",
       "      <td>Interlagos/Castelo</td>\n",
       "      <td>OESTE</td>\n",
       "      <td>2018-09-30 19:30:00</td>\n",
       "      <td>4640</td>\n",
       "      <td>De CIDADE UNIVERSITARIA até 700 m depois de QU...</td>\n",
       "    </tr>\n",
       "    <tr>\n",
       "      <th>5223447</th>\n",
       "      <td>230199</td>\n",
       "      <td>171</td>\n",
       "      <td>Interlagos/Castelo</td>\n",
       "      <td>OESTE</td>\n",
       "      <td>2018-09-30 19:30:00</td>\n",
       "      <td>3820</td>\n",
       "      <td>De CIDADE UNIVERSITARIA até 350 m depois de JU...</td>\n",
       "    </tr>\n",
       "  </tbody>\n",
       "</table>\n",
       "<p>5223448 rows × 7 columns</p>\n",
       "</div>"
      ],
      "text/plain": [
       "          index  passage                                 direction region  \\\n",
       "0             0      154  unico//                                   OESTE   \n",
       "1             1      152  Ibirapuera/Pinheiros                        SUL   \n",
       "2             2      154  unico//                                   OESTE   \n",
       "3             3      152  Ibirapuera/Pinheiros                        SUL   \n",
       "4             4      154  unico//                                   OESTE   \n",
       "...         ...      ...                                       ...    ...   \n",
       "5223443  230195      171  Interlagos/Castelo                        OESTE   \n",
       "5223444  230196      171  Interlagos/Castelo                        OESTE   \n",
       "5223445  230197      171  Interlagos/Castelo                        OESTE   \n",
       "5223446  230198      171  Interlagos/Castelo                        OESTE   \n",
       "5223447  230199      171  Interlagos/Castelo                        OESTE   \n",
       "\n",
       "                  timestamp  jam_size  \\\n",
       "0       2015-01-04 14:30:00       799   \n",
       "1       2015-01-04 14:30:00       260   \n",
       "2       2015-01-04 15:00:00       799   \n",
       "3       2015-01-04 15:00:00       260   \n",
       "4       2015-01-04 15:30:00       799   \n",
       "...                     ...       ...   \n",
       "5223443 2018-09-30 18:30:00      3820   \n",
       "5223444 2018-09-30 19:00:00      4640   \n",
       "5223445 2018-09-30 19:00:00      3820   \n",
       "5223446 2018-09-30 19:30:00      4640   \n",
       "5223447 2018-09-30 19:30:00      3820   \n",
       "\n",
       "                                                   segment  \n",
       "0             De OSCAR AMERICANO até  JUSCELINO KUBITSCHEK  \n",
       "1        De  Emboque Túnel Jânio Quadros até 290 m depo...  \n",
       "2             De OSCAR AMERICANO até  JUSCELINO KUBITSCHEK  \n",
       "3        De  Emboque Túnel Jânio Quadros até 290 m depo...  \n",
       "4             De OSCAR AMERICANO até  JUSCELINO KUBITSCHEK  \n",
       "...                                                    ...  \n",
       "5223443  De CIDADE UNIVERSITARIA até 350 m depois de JU...  \n",
       "5223444  De CIDADE UNIVERSITARIA até 700 m depois de QU...  \n",
       "5223445  De CIDADE UNIVERSITARIA até 350 m depois de JU...  \n",
       "5223446  De CIDADE UNIVERSITARIA até 700 m depois de QU...  \n",
       "5223447  De CIDADE UNIVERSITARIA até 350 m depois de JU...  \n",
       "\n",
       "[5223448 rows x 7 columns]"
      ]
     },
     "execution_count": 10,
     "metadata": {},
     "output_type": "execute_result"
    }
   ],
   "source": [
    "# Dictionary created, we replaced it on the dataframe. I'll make another copy, so we don't risk losing the \n",
    "# previous dataframe.\n",
    "df_typeless_replace = df_typeless.copy()\n",
    "\n",
    "# We replaced all categorical Passage values with the new numeric values in the dictionary.\n",
    "df_typeless_replace.replace(dictio_passage, inplace = True)\n",
    "\n",
    "# Sampling\n",
    "df_typeless_replace"
   ]
  },
  {
   "cell_type": "code",
   "execution_count": 11,
   "metadata": {},
   "outputs": [
    {
     "name": "stdout",
     "output_type": "stream",
     "text": [
      "Distinct Categories: \n",
      "\n",
      " Bairro/Centro                               955953\n",
      "Centro/Bairro                               731304\n",
      "Castelo/A.Senna                             287733\n",
      "A.Senna/Castelo Branco                      257949\n",
      "Interlagos/Castelo                          225922\n",
      "                                             ...  \n",
      "A Senna/Maua                                     9\n",
      "Aricanduva/Itaquera                              7\n",
      "Marginal/Interlagos                              3\n",
      "Batista Botelho/Teotônio                         2\n",
      "Teotônio/Batista Botelho                         1\n",
      "Name: direction, Length: 103, dtype: int64\n",
      "\n",
      "\n",
      " We have, in total, 103 different directions\n"
     ]
    }
   ],
   "source": [
    "# We do the same process for the Direction feature.\n",
    "print('Distinct Categories: \\n\\n', df_typeless['direction'].value_counts())\n",
    "print('\\n\\n We have, in total, %i different directions' % df_typeless['direction'].value_counts().count())\n",
    "\n",
    "# With that, we need to create a dictionary for all of these names.\n",
    "labels = df_typeless['direction'].astype('category').cat.categories.tolist()\n",
    "dictio_direction = {'direction' : {k: v for k,v in zip(labels,list(range(1,len(labels)+1)))}}"
   ]
  },
  {
   "cell_type": "code",
   "execution_count": 12,
   "metadata": {},
   "outputs": [
    {
     "name": "stdout",
     "output_type": "stream",
     "text": [
      "{'direction': {'//unico                                 ': 1, 'A Alvim/S Miguel                        ': 2, 'A Senna/Maua                            ': 3, 'A.Senna/Castelo Branco                  ': 4, 'Abraão de Morais/Cursino                ': 5, 'Aeroporto/Marginal                      ': 6, 'Aeroporto/Santana                       ': 7, 'Anchieta/Imigrantes                     ': 8, 'Aricanduva/Itaquera                     ': 9, 'Bairro/Centro                           ': 10, 'Bandeirantes/Morumbi                    ': 11, 'Barra Funda/Lapa                        ': 12, 'Batista Botelho/Teotônio                ': 13, 'Belem/Mooca                             ': 14, 'Butanta/Morumbi                         ': 15, 'Campo Limpo/Morato                      ': 16, 'Campo Limpo/Santo Amaro                 ': 17, 'Capital/Interior                        ': 18, 'Castelo/A.Senna                         ': 19, 'Castelo/Interlagos                      ': 20, 'Centro/Bairro                           ': 21, 'Consolação/Paraiso                      ': 22, 'Consolação/Sumare                       ': 23, 'Cursino/Abraão de Morais                ': 24, 'Diadema/Marginal                        ': 25, 'Estadio/Jardins                         ': 26, 'Estádio/Marginal                        ': 27, 'Freguesia/Lapa                          ': 28, 'Ibirapuera/Marginal                     ': 29, 'Ibirapuera/Pinheiros                    ': 30, 'Imigrantes/Anchieta                     ': 31, 'Imigrantes/Marginal                     ': 32, 'Interior/Capital                        ': 33, 'Interlagos/Castelo                      ': 34, 'Interlagos/Marginal                     ': 35, 'Ipiranga/Santana                        ': 36, 'Ipiranga/Vila Prudente                  ': 37, 'Itaim/Pinheiros                         ': 38, 'Itaquera/Marginal                       ': 39, 'Itaquera/Vila Formosa                   ': 40, 'Jaguaré/Lapa                            ': 41, 'Joquei/USP                              ': 42, 'Lapa/Barra Funda                        ': 43, 'Lapa/Freguesia                          ': 44, 'Lapa/Jaguaré                            ': 45, 'Lapa/Penha                              ': 46, 'Lapa/Pinheiros                          ': 47, 'Lapa/Piqueri                            ': 48, 'Lapa/Remédios                           ': 49, 'Limão/Pompéia                           ': 50, 'Limão/Sumaré                            ': 51, 'Marginal/Aeroporto                      ': 52, 'Marginal/Diadema                        ': 53, 'Marginal/Estádio                        ': 54, 'Marginal/Ibirapuera                     ': 55, 'Marginal/Imigrantes                     ': 56, 'Marginal/Interlagos                     ': 57, 'Marginal/Itaquera                       ': 58, 'Marginal/Pinheiros                      ': 59, 'Marginal/Pompeia                        ': 60, 'Marginal/Vila Prudente                  ': 61, 'Maua/A Senna                            ': 62, 'Mooca/Belem                             ': 63, 'Morato/Campo Limpo                      ': 64, 'Morumbi/Bandeirantes                    ': 65, 'Morumbi/Butanta                         ': 66, 'Morumbi/Santo Amaro                     ': 67, 'PanAmericana/USP                        ': 68, 'Paraiso/Consolação                      ': 69, 'Penha/Lapa                              ': 70, 'Penha/Vl Matilde                        ': 71, 'Pinheiros/Ibirapuera                    ': 72, 'Pinheiros/Itaim                         ': 73, 'Pinheiros/Lapa                          ': 74, 'Pinheiros/Marginal                      ': 75, 'Pinheiros/Vila Mariana                  ': 76, 'Piqueri/Lapa                            ': 77, 'Pompeia/Marginal                        ': 78, 'Pompéia/Limão                           ': 79, 'Remédios/Lapa                           ': 80, 'S Miguel/A Alvim                        ': 81, 'S. Caetano/Sao Paulo                    ': 82, 'Santana/Aeroporto                       ': 83, 'Santana/Ipiranga                        ': 84, 'Santo Amaro/Campo Limpo                 ': 85, 'Santo Amaro/Morumbi                     ': 86, 'Santos/São Paulo                        ': 87, 'Sao Paulo/S. Caetano                    ': 88, 'Sapopem./Vila Prudente                  ': 89, 'Sumare/Consolação                       ': 90, 'Sumaré/Limão                            ': 91, 'São Paulo/Santos                        ': 92, 'Teotônio/Batista Botelho                ': 93, 'USP/Joquei                              ': 94, 'USP/PanAmericana                        ': 95, 'Vila Formosa/Itaquera                   ': 96, 'Vila Mariana/Pinheiros                  ': 97, 'Vila Prudente/Ipiranga                  ': 98, 'Vila Prudente/Marginal                  ': 99, 'Vila Prudente/Sapopem.                  ': 100, 'Vl Matilde/Penha                        ': 101, 'unico//                                 ': 102, 'único//                                 ': 103}}\n"
     ]
    }
   ],
   "source": [
    "# Direction Dictio.\n",
    "print(dictio_direction)"
   ]
  },
  {
   "cell_type": "code",
   "execution_count": 13,
   "metadata": {},
   "outputs": [
    {
     "data": {
      "text/html": [
       "<div>\n",
       "<style scoped>\n",
       "    .dataframe tbody tr th:only-of-type {\n",
       "        vertical-align: middle;\n",
       "    }\n",
       "\n",
       "    .dataframe tbody tr th {\n",
       "        vertical-align: top;\n",
       "    }\n",
       "\n",
       "    .dataframe thead th {\n",
       "        text-align: right;\n",
       "    }\n",
       "</style>\n",
       "<table border=\"1\" class=\"dataframe\">\n",
       "  <thead>\n",
       "    <tr style=\"text-align: right;\">\n",
       "      <th></th>\n",
       "      <th>index</th>\n",
       "      <th>passage</th>\n",
       "      <th>direction</th>\n",
       "      <th>region</th>\n",
       "      <th>timestamp</th>\n",
       "      <th>jam_size</th>\n",
       "      <th>segment</th>\n",
       "    </tr>\n",
       "  </thead>\n",
       "  <tbody>\n",
       "    <tr>\n",
       "      <th>0</th>\n",
       "      <td>0</td>\n",
       "      <td>154</td>\n",
       "      <td>102</td>\n",
       "      <td>OESTE</td>\n",
       "      <td>2015-01-04 14:30:00</td>\n",
       "      <td>799</td>\n",
       "      <td>De OSCAR AMERICANO até  JUSCELINO KUBITSCHEK</td>\n",
       "    </tr>\n",
       "    <tr>\n",
       "      <th>1</th>\n",
       "      <td>1</td>\n",
       "      <td>152</td>\n",
       "      <td>30</td>\n",
       "      <td>SUL</td>\n",
       "      <td>2015-01-04 14:30:00</td>\n",
       "      <td>260</td>\n",
       "      <td>De  Emboque Túnel Jânio Quadros até 290 m depo...</td>\n",
       "    </tr>\n",
       "    <tr>\n",
       "      <th>2</th>\n",
       "      <td>2</td>\n",
       "      <td>154</td>\n",
       "      <td>102</td>\n",
       "      <td>OESTE</td>\n",
       "      <td>2015-01-04 15:00:00</td>\n",
       "      <td>799</td>\n",
       "      <td>De OSCAR AMERICANO até  JUSCELINO KUBITSCHEK</td>\n",
       "    </tr>\n",
       "    <tr>\n",
       "      <th>3</th>\n",
       "      <td>3</td>\n",
       "      <td>152</td>\n",
       "      <td>30</td>\n",
       "      <td>SUL</td>\n",
       "      <td>2015-01-04 15:00:00</td>\n",
       "      <td>260</td>\n",
       "      <td>De  Emboque Túnel Jânio Quadros até 290 m depo...</td>\n",
       "    </tr>\n",
       "    <tr>\n",
       "      <th>4</th>\n",
       "      <td>4</td>\n",
       "      <td>154</td>\n",
       "      <td>102</td>\n",
       "      <td>OESTE</td>\n",
       "      <td>2015-01-04 15:30:00</td>\n",
       "      <td>799</td>\n",
       "      <td>De OSCAR AMERICANO até  JUSCELINO KUBITSCHEK</td>\n",
       "    </tr>\n",
       "    <tr>\n",
       "      <th>...</th>\n",
       "      <td>...</td>\n",
       "      <td>...</td>\n",
       "      <td>...</td>\n",
       "      <td>...</td>\n",
       "      <td>...</td>\n",
       "      <td>...</td>\n",
       "      <td>...</td>\n",
       "    </tr>\n",
       "    <tr>\n",
       "      <th>5223443</th>\n",
       "      <td>230195</td>\n",
       "      <td>171</td>\n",
       "      <td>34</td>\n",
       "      <td>OESTE</td>\n",
       "      <td>2018-09-30 18:30:00</td>\n",
       "      <td>3820</td>\n",
       "      <td>De CIDADE UNIVERSITARIA até 350 m depois de JU...</td>\n",
       "    </tr>\n",
       "    <tr>\n",
       "      <th>5223444</th>\n",
       "      <td>230196</td>\n",
       "      <td>171</td>\n",
       "      <td>34</td>\n",
       "      <td>OESTE</td>\n",
       "      <td>2018-09-30 19:00:00</td>\n",
       "      <td>4640</td>\n",
       "      <td>De CIDADE UNIVERSITARIA até 700 m depois de QU...</td>\n",
       "    </tr>\n",
       "    <tr>\n",
       "      <th>5223445</th>\n",
       "      <td>230197</td>\n",
       "      <td>171</td>\n",
       "      <td>34</td>\n",
       "      <td>OESTE</td>\n",
       "      <td>2018-09-30 19:00:00</td>\n",
       "      <td>3820</td>\n",
       "      <td>De CIDADE UNIVERSITARIA até 350 m depois de JU...</td>\n",
       "    </tr>\n",
       "    <tr>\n",
       "      <th>5223446</th>\n",
       "      <td>230198</td>\n",
       "      <td>171</td>\n",
       "      <td>34</td>\n",
       "      <td>OESTE</td>\n",
       "      <td>2018-09-30 19:30:00</td>\n",
       "      <td>4640</td>\n",
       "      <td>De CIDADE UNIVERSITARIA até 700 m depois de QU...</td>\n",
       "    </tr>\n",
       "    <tr>\n",
       "      <th>5223447</th>\n",
       "      <td>230199</td>\n",
       "      <td>171</td>\n",
       "      <td>34</td>\n",
       "      <td>OESTE</td>\n",
       "      <td>2018-09-30 19:30:00</td>\n",
       "      <td>3820</td>\n",
       "      <td>De CIDADE UNIVERSITARIA até 350 m depois de JU...</td>\n",
       "    </tr>\n",
       "  </tbody>\n",
       "</table>\n",
       "<p>5223448 rows × 7 columns</p>\n",
       "</div>"
      ],
      "text/plain": [
       "          index  passage  direction region           timestamp  jam_size  \\\n",
       "0             0      154        102  OESTE 2015-01-04 14:30:00       799   \n",
       "1             1      152         30    SUL 2015-01-04 14:30:00       260   \n",
       "2             2      154        102  OESTE 2015-01-04 15:00:00       799   \n",
       "3             3      152         30    SUL 2015-01-04 15:00:00       260   \n",
       "4             4      154        102  OESTE 2015-01-04 15:30:00       799   \n",
       "...         ...      ...        ...    ...                 ...       ...   \n",
       "5223443  230195      171         34  OESTE 2018-09-30 18:30:00      3820   \n",
       "5223444  230196      171         34  OESTE 2018-09-30 19:00:00      4640   \n",
       "5223445  230197      171         34  OESTE 2018-09-30 19:00:00      3820   \n",
       "5223446  230198      171         34  OESTE 2018-09-30 19:30:00      4640   \n",
       "5223447  230199      171         34  OESTE 2018-09-30 19:30:00      3820   \n",
       "\n",
       "                                                   segment  \n",
       "0             De OSCAR AMERICANO até  JUSCELINO KUBITSCHEK  \n",
       "1        De  Emboque Túnel Jânio Quadros até 290 m depo...  \n",
       "2             De OSCAR AMERICANO até  JUSCELINO KUBITSCHEK  \n",
       "3        De  Emboque Túnel Jânio Quadros até 290 m depo...  \n",
       "4             De OSCAR AMERICANO até  JUSCELINO KUBITSCHEK  \n",
       "...                                                    ...  \n",
       "5223443  De CIDADE UNIVERSITARIA até 350 m depois de JU...  \n",
       "5223444  De CIDADE UNIVERSITARIA até 700 m depois de QU...  \n",
       "5223445  De CIDADE UNIVERSITARIA até 350 m depois de JU...  \n",
       "5223446  De CIDADE UNIVERSITARIA até 700 m depois de QU...  \n",
       "5223447  De CIDADE UNIVERSITARIA até 350 m depois de JU...  \n",
       "\n",
       "[5223448 rows x 7 columns]"
      ]
     },
     "execution_count": 13,
     "metadata": {},
     "output_type": "execute_result"
    }
   ],
   "source": [
    "# Dictionary created, we replaced it on the dataframe.\n",
    "# We replaced all categorical Direction values with new numeric values from the dictionary.\n",
    "df_typeless_replace.replace(dictio_direction, inplace = True)\n",
    "\n",
    "# Sampling\n",
    "df_typeless_replace"
   ]
  },
  {
   "cell_type": "code",
   "execution_count": 15,
   "metadata": {},
   "outputs": [
    {
     "name": "stdout",
     "output_type": "stream",
     "text": [
      "Distinct Categories: \n",
      "\n",
      " NOWHERE    2509341\n",
      "CENTRO      811594\n",
      "OESTE       732056\n",
      "SUL         621874\n",
      "LESTE       410407\n",
      "NORTE       138176\n",
      "Name: region, dtype: int64\n",
      "\n",
      "\n",
      " We have, in total, 6 different regions\n"
     ]
    }
   ],
   "source": [
    "# We do the same process for the Region feature.\n",
    "print('Distinct Categories: \\n\\n', df_typeless['region'].value_counts())\n",
    "print('\\n\\n We have, in total, %i different regions' % df_typeless['region'].value_counts().count())\n",
    "\n",
    "# With that, we need to create a dictionary for all of these names.\n",
    "labels = df_typeless['region'].astype('category').cat.categories.tolist()\n",
    "dictio_region = {'region' : {k: v for k,v in zip(labels,list(range(1,len(labels)+1)))}}"
   ]
  },
  {
   "cell_type": "code",
   "execution_count": 16,
   "metadata": {},
   "outputs": [
    {
     "name": "stdout",
     "output_type": "stream",
     "text": [
      "{'region': {'CENTRO': 1, 'LESTE': 2, 'NORTE': 3, 'OESTE': 4, 'SUL': 5, 'NOWHERE': 6}}\n"
     ]
    }
   ],
   "source": [
    "# Region Dictio\n",
    "print(dictio_region)"
   ]
  },
  {
   "cell_type": "code",
   "execution_count": 17,
   "metadata": {},
   "outputs": [
    {
     "data": {
      "text/html": [
       "<div>\n",
       "<style scoped>\n",
       "    .dataframe tbody tr th:only-of-type {\n",
       "        vertical-align: middle;\n",
       "    }\n",
       "\n",
       "    .dataframe tbody tr th {\n",
       "        vertical-align: top;\n",
       "    }\n",
       "\n",
       "    .dataframe thead th {\n",
       "        text-align: right;\n",
       "    }\n",
       "</style>\n",
       "<table border=\"1\" class=\"dataframe\">\n",
       "  <thead>\n",
       "    <tr style=\"text-align: right;\">\n",
       "      <th></th>\n",
       "      <th>index</th>\n",
       "      <th>passage</th>\n",
       "      <th>direction</th>\n",
       "      <th>region</th>\n",
       "      <th>timestamp</th>\n",
       "      <th>jam_size</th>\n",
       "      <th>segment</th>\n",
       "    </tr>\n",
       "  </thead>\n",
       "  <tbody>\n",
       "    <tr>\n",
       "      <th>0</th>\n",
       "      <td>0</td>\n",
       "      <td>154</td>\n",
       "      <td>102</td>\n",
       "      <td>4</td>\n",
       "      <td>2015-01-04 14:30:00</td>\n",
       "      <td>799</td>\n",
       "      <td>De OSCAR AMERICANO até  JUSCELINO KUBITSCHEK</td>\n",
       "    </tr>\n",
       "    <tr>\n",
       "      <th>1</th>\n",
       "      <td>1</td>\n",
       "      <td>152</td>\n",
       "      <td>30</td>\n",
       "      <td>5</td>\n",
       "      <td>2015-01-04 14:30:00</td>\n",
       "      <td>260</td>\n",
       "      <td>De  Emboque Túnel Jânio Quadros até 290 m depo...</td>\n",
       "    </tr>\n",
       "    <tr>\n",
       "      <th>2</th>\n",
       "      <td>2</td>\n",
       "      <td>154</td>\n",
       "      <td>102</td>\n",
       "      <td>4</td>\n",
       "      <td>2015-01-04 15:00:00</td>\n",
       "      <td>799</td>\n",
       "      <td>De OSCAR AMERICANO até  JUSCELINO KUBITSCHEK</td>\n",
       "    </tr>\n",
       "    <tr>\n",
       "      <th>3</th>\n",
       "      <td>3</td>\n",
       "      <td>152</td>\n",
       "      <td>30</td>\n",
       "      <td>5</td>\n",
       "      <td>2015-01-04 15:00:00</td>\n",
       "      <td>260</td>\n",
       "      <td>De  Emboque Túnel Jânio Quadros até 290 m depo...</td>\n",
       "    </tr>\n",
       "    <tr>\n",
       "      <th>4</th>\n",
       "      <td>4</td>\n",
       "      <td>154</td>\n",
       "      <td>102</td>\n",
       "      <td>4</td>\n",
       "      <td>2015-01-04 15:30:00</td>\n",
       "      <td>799</td>\n",
       "      <td>De OSCAR AMERICANO até  JUSCELINO KUBITSCHEK</td>\n",
       "    </tr>\n",
       "    <tr>\n",
       "      <th>...</th>\n",
       "      <td>...</td>\n",
       "      <td>...</td>\n",
       "      <td>...</td>\n",
       "      <td>...</td>\n",
       "      <td>...</td>\n",
       "      <td>...</td>\n",
       "      <td>...</td>\n",
       "    </tr>\n",
       "    <tr>\n",
       "      <th>5223443</th>\n",
       "      <td>230195</td>\n",
       "      <td>171</td>\n",
       "      <td>34</td>\n",
       "      <td>4</td>\n",
       "      <td>2018-09-30 18:30:00</td>\n",
       "      <td>3820</td>\n",
       "      <td>De CIDADE UNIVERSITARIA até 350 m depois de JU...</td>\n",
       "    </tr>\n",
       "    <tr>\n",
       "      <th>5223444</th>\n",
       "      <td>230196</td>\n",
       "      <td>171</td>\n",
       "      <td>34</td>\n",
       "      <td>4</td>\n",
       "      <td>2018-09-30 19:00:00</td>\n",
       "      <td>4640</td>\n",
       "      <td>De CIDADE UNIVERSITARIA até 700 m depois de QU...</td>\n",
       "    </tr>\n",
       "    <tr>\n",
       "      <th>5223445</th>\n",
       "      <td>230197</td>\n",
       "      <td>171</td>\n",
       "      <td>34</td>\n",
       "      <td>4</td>\n",
       "      <td>2018-09-30 19:00:00</td>\n",
       "      <td>3820</td>\n",
       "      <td>De CIDADE UNIVERSITARIA até 350 m depois de JU...</td>\n",
       "    </tr>\n",
       "    <tr>\n",
       "      <th>5223446</th>\n",
       "      <td>230198</td>\n",
       "      <td>171</td>\n",
       "      <td>34</td>\n",
       "      <td>4</td>\n",
       "      <td>2018-09-30 19:30:00</td>\n",
       "      <td>4640</td>\n",
       "      <td>De CIDADE UNIVERSITARIA até 700 m depois de QU...</td>\n",
       "    </tr>\n",
       "    <tr>\n",
       "      <th>5223447</th>\n",
       "      <td>230199</td>\n",
       "      <td>171</td>\n",
       "      <td>34</td>\n",
       "      <td>4</td>\n",
       "      <td>2018-09-30 19:30:00</td>\n",
       "      <td>3820</td>\n",
       "      <td>De CIDADE UNIVERSITARIA até 350 m depois de JU...</td>\n",
       "    </tr>\n",
       "  </tbody>\n",
       "</table>\n",
       "<p>5223448 rows × 7 columns</p>\n",
       "</div>"
      ],
      "text/plain": [
       "          index  passage  direction  region           timestamp  jam_size  \\\n",
       "0             0      154        102       4 2015-01-04 14:30:00       799   \n",
       "1             1      152         30       5 2015-01-04 14:30:00       260   \n",
       "2             2      154        102       4 2015-01-04 15:00:00       799   \n",
       "3             3      152         30       5 2015-01-04 15:00:00       260   \n",
       "4             4      154        102       4 2015-01-04 15:30:00       799   \n",
       "...         ...      ...        ...     ...                 ...       ...   \n",
       "5223443  230195      171         34       4 2018-09-30 18:30:00      3820   \n",
       "5223444  230196      171         34       4 2018-09-30 19:00:00      4640   \n",
       "5223445  230197      171         34       4 2018-09-30 19:00:00      3820   \n",
       "5223446  230198      171         34       4 2018-09-30 19:30:00      4640   \n",
       "5223447  230199      171         34       4 2018-09-30 19:30:00      3820   \n",
       "\n",
       "                                                   segment  \n",
       "0             De OSCAR AMERICANO até  JUSCELINO KUBITSCHEK  \n",
       "1        De  Emboque Túnel Jânio Quadros até 290 m depo...  \n",
       "2             De OSCAR AMERICANO até  JUSCELINO KUBITSCHEK  \n",
       "3        De  Emboque Túnel Jânio Quadros até 290 m depo...  \n",
       "4             De OSCAR AMERICANO até  JUSCELINO KUBITSCHEK  \n",
       "...                                                    ...  \n",
       "5223443  De CIDADE UNIVERSITARIA até 350 m depois de JU...  \n",
       "5223444  De CIDADE UNIVERSITARIA até 700 m depois de QU...  \n",
       "5223445  De CIDADE UNIVERSITARIA até 350 m depois de JU...  \n",
       "5223446  De CIDADE UNIVERSITARIA até 700 m depois de QU...  \n",
       "5223447  De CIDADE UNIVERSITARIA até 350 m depois de JU...  \n",
       "\n",
       "[5223448 rows x 7 columns]"
      ]
     },
     "execution_count": 17,
     "metadata": {},
     "output_type": "execute_result"
    }
   ],
   "source": [
    "# Dictionary created, we replaced it on the dataframe.\n",
    "# We replaced all categorical values of Region with new numeric values from the dictionary.\n",
    "df_typeless_replace.replace(dictio_region, inplace = True)\n",
    "\n",
    "# Sampling\n",
    "df_typeless_replace"
   ]
  },
  {
   "cell_type": "code",
   "execution_count": 18,
   "metadata": {},
   "outputs": [
    {
     "name": "stdout",
     "output_type": "stream",
     "text": [
      "Distinct Categories: \n",
      "\n",
      " De  Desemboque até   Emboque                         115595\n",
      "De JOAO CACHOEIRA até  ANTONIO J. DE MOURA AND...     76891\n",
      "De PACHECO DE MIRANDA Início Túnel Trib. Ju at...     46799\n",
      "De ALIOMAR BALEEIRO Término até  ALIOMAR BALEE...     43520\n",
      "De ANTONIO SABINO Pte Eusebio Matoso até  DIOG...     37331\n",
      "                                                      ...  \n",
      "De 200 m antes de JURITI até 200 m depois de P...         1\n",
      "De CRUZEIRO DO SUL até 3870 m depois de CASA V...         1\n",
      "De CRUZEIRO DO SUL até 3890 m depois de CASA V...         1\n",
      "De 341 m antes de LIMAO até 1170 m depois de F...         1\n",
      "De 810 m antes de MORUMBI até  EUSEBIO MATOSO             1\n",
      "Name: segment, Length: 113996, dtype: int64\n",
      "\n",
      "\n",
      " We have a total of 113996 different segments\n"
     ]
    }
   ],
   "source": [
    "# We do the same process for the Segment feature.\n",
    "print('Distinct Categories: \\n\\n', df_typeless['segment'].value_counts())\n",
    "print('\\n\\n We have a total of %i different segments' % df_typeless['segment'].value_counts().count())\n",
    "\n",
    "# With that, we need to create a dictionary for all of these names.\n",
    "labels = df_typeless['segment'].astype('category').cat.categories.tolist()\n",
    "dictio_segment = {'segment' : {k: v for k,v in zip(labels,list(range(1,len(labels)+1)))}}"
   ]
  },
  {
   "cell_type": "code",
   "execution_count": 19,
   "metadata": {},
   "outputs": [
    {
     "name": "stderr",
     "output_type": "stream",
     "text": [
      "IOPub data rate exceeded.\n",
      "The notebook server will temporarily stop sending output\n",
      "to the client in order to avoid crashing it.\n",
      "To change this limit, set the config variable\n",
      "`--NotebookApp.iopub_data_rate_limit`.\n",
      "\n",
      "Current values:\n",
      "NotebookApp.iopub_data_rate_limit=1000000.0 (bytes/sec)\n",
      "NotebookApp.rate_limit_window=3.0 (secs)\n",
      "\n"
     ]
    }
   ],
   "source": [
    "# Region Dictio\n",
    "print(dictio_segment)"
   ]
  },
  {
   "cell_type": "code",
   "execution_count": 20,
   "metadata": {},
   "outputs": [],
   "source": [
    "# Since the dictionary is very extensive, and the dataset has more than 5 and 6 samples, data conversion\n",
    "# categorical in numerics would be extremely time consuming. If the dataset is all converted at once, the Notebook\n",
    "# ends up crashing.\n",
    "# The solution to the problem is to divide the main dataset into subsets of 50 samples, which will be faster\n",
    "# processed. Finally, all subsets will be merged.\n",
    "\n",
    "# Import numpy\n",
    "import numpy as np\n",
    "import pandas as pd\n",
    "\n",
    "# We create a vector of indexes of the data, and then we split it into 100000 pieces.\n",
    "idx = np.arange(0, df_typeless.shape[0], 1)\n",
    "idx = np.array_split(idx, 100000) "
   ]
  },
  {
   "cell_type": "code",
   "execution_count": 21,
   "metadata": {},
   "outputs": [],
   "source": [
    "# We created an empty list\n",
    "dfs = []\n",
    "\n",
    "# We filled the list with 54 sample data frames\n",
    "for i in idx:\n",
    "    dfs.append(df_typeless_replace.loc[i])\n",
    "    \n",
    "# And we iterate over each dataframe, replacing Segment's categorical values with the numeric values of\n",
    "# dictionaries.\n",
    "# Up to 50 subsets were iterated, for example, without having to run the algorithm for hours.\n",
    "aux = 0\n",
    "for x in dfs:\n",
    "    aux += 1\n",
    "    x.replace(dictio_segment, inplace = True)\n",
    "    #print(aux)\n",
    "    if aux == 50:\n",
    "        break"
   ]
  },
  {
   "cell_type": "code",
   "execution_count": 22,
   "metadata": {},
   "outputs": [
    {
     "data": {
      "text/html": [
       "<div>\n",
       "<style scoped>\n",
       "    .dataframe tbody tr th:only-of-type {\n",
       "        vertical-align: middle;\n",
       "    }\n",
       "\n",
       "    .dataframe tbody tr th {\n",
       "        vertical-align: top;\n",
       "    }\n",
       "\n",
       "    .dataframe thead th {\n",
       "        text-align: right;\n",
       "    }\n",
       "</style>\n",
       "<table border=\"1\" class=\"dataframe\">\n",
       "  <thead>\n",
       "    <tr style=\"text-align: right;\">\n",
       "      <th></th>\n",
       "      <th>index</th>\n",
       "      <th>passage</th>\n",
       "      <th>direction</th>\n",
       "      <th>region</th>\n",
       "      <th>timestamp</th>\n",
       "      <th>jam_size</th>\n",
       "      <th>segment</th>\n",
       "    </tr>\n",
       "  </thead>\n",
       "  <tbody>\n",
       "    <tr>\n",
       "      <th>0</th>\n",
       "      <td>0</td>\n",
       "      <td>154</td>\n",
       "      <td>102</td>\n",
       "      <td>4</td>\n",
       "      <td>2015-01-04 14:30:00</td>\n",
       "      <td>799</td>\n",
       "      <td>99696</td>\n",
       "    </tr>\n",
       "    <tr>\n",
       "      <th>1</th>\n",
       "      <td>1</td>\n",
       "      <td>152</td>\n",
       "      <td>30</td>\n",
       "      <td>5</td>\n",
       "      <td>2015-01-04 14:30:00</td>\n",
       "      <td>260</td>\n",
       "      <td>534</td>\n",
       "    </tr>\n",
       "    <tr>\n",
       "      <th>2</th>\n",
       "      <td>2</td>\n",
       "      <td>154</td>\n",
       "      <td>102</td>\n",
       "      <td>4</td>\n",
       "      <td>2015-01-04 15:00:00</td>\n",
       "      <td>799</td>\n",
       "      <td>99696</td>\n",
       "    </tr>\n",
       "    <tr>\n",
       "      <th>3</th>\n",
       "      <td>3</td>\n",
       "      <td>152</td>\n",
       "      <td>30</td>\n",
       "      <td>5</td>\n",
       "      <td>2015-01-04 15:00:00</td>\n",
       "      <td>260</td>\n",
       "      <td>534</td>\n",
       "    </tr>\n",
       "    <tr>\n",
       "      <th>4</th>\n",
       "      <td>4</td>\n",
       "      <td>154</td>\n",
       "      <td>102</td>\n",
       "      <td>4</td>\n",
       "      <td>2015-01-04 15:30:00</td>\n",
       "      <td>799</td>\n",
       "      <td>99696</td>\n",
       "    </tr>\n",
       "    <tr>\n",
       "      <th>...</th>\n",
       "      <td>...</td>\n",
       "      <td>...</td>\n",
       "      <td>...</td>\n",
       "      <td>...</td>\n",
       "      <td>...</td>\n",
       "      <td>...</td>\n",
       "      <td>...</td>\n",
       "    </tr>\n",
       "    <tr>\n",
       "      <th>2645</th>\n",
       "      <td>2645</td>\n",
       "      <td>172</td>\n",
       "      <td>4</td>\n",
       "      <td>2</td>\n",
       "      <td>2015-01-09 17:30:00</td>\n",
       "      <td>2810</td>\n",
       "      <td>102635</td>\n",
       "    </tr>\n",
       "    <tr>\n",
       "      <th>2646</th>\n",
       "      <td>2646</td>\n",
       "      <td>172</td>\n",
       "      <td>19</td>\n",
       "      <td>2</td>\n",
       "      <td>2015-01-09 17:30:00</td>\n",
       "      <td>2600</td>\n",
       "      <td>72645</td>\n",
       "    </tr>\n",
       "    <tr>\n",
       "      <th>2647</th>\n",
       "      <td>2647</td>\n",
       "      <td>172</td>\n",
       "      <td>19</td>\n",
       "      <td>2</td>\n",
       "      <td>2015-01-09 17:30:00</td>\n",
       "      <td>2600</td>\n",
       "      <td>72645</td>\n",
       "    </tr>\n",
       "    <tr>\n",
       "      <th>2648</th>\n",
       "      <td>2648</td>\n",
       "      <td>173</td>\n",
       "      <td>19</td>\n",
       "      <td>1</td>\n",
       "      <td>2015-01-09 17:30:00</td>\n",
       "      <td>2600</td>\n",
       "      <td>72645</td>\n",
       "    </tr>\n",
       "    <tr>\n",
       "      <th>2649</th>\n",
       "      <td>2649</td>\n",
       "      <td>171</td>\n",
       "      <td>20</td>\n",
       "      <td>4</td>\n",
       "      <td>2015-01-09 17:30:00</td>\n",
       "      <td>2363</td>\n",
       "      <td>28361</td>\n",
       "    </tr>\n",
       "  </tbody>\n",
       "</table>\n",
       "<p>2650 rows × 7 columns</p>\n",
       "</div>"
      ],
      "text/plain": [
       "      index  passage  direction  region           timestamp  jam_size  segment\n",
       "0         0      154        102       4 2015-01-04 14:30:00       799    99696\n",
       "1         1      152         30       5 2015-01-04 14:30:00       260      534\n",
       "2         2      154        102       4 2015-01-04 15:00:00       799    99696\n",
       "3         3      152         30       5 2015-01-04 15:00:00       260      534\n",
       "4         4      154        102       4 2015-01-04 15:30:00       799    99696\n",
       "...     ...      ...        ...     ...                 ...       ...      ...\n",
       "2645   2645      172          4       2 2015-01-09 17:30:00      2810   102635\n",
       "2646   2646      172         19       2 2015-01-09 17:30:00      2600    72645\n",
       "2647   2647      172         19       2 2015-01-09 17:30:00      2600    72645\n",
       "2648   2648      173         19       1 2015-01-09 17:30:00      2600    72645\n",
       "2649   2649      171         20       4 2015-01-09 17:30:00      2363    28361\n",
       "\n",
       "[2650 rows x 7 columns]"
      ]
     },
     "execution_count": 22,
     "metadata": {},
     "output_type": "execute_result"
    }
   ],
   "source": [
    "# We have concatenated all 50 subsets that were treated.\n",
    "df_numerical = pd.concat(dfs[:50])\n",
    "\n",
    "# Sampling\n",
    "df_numerical"
   ]
  },
  {
   "cell_type": "markdown",
   "metadata": {},
   "source": [
    "## 4 - Correlation\n",
    "\n",
    "- Generate a graph of correlation of the variables in use, use only the variables that you find interesting for the proposed problem."
   ]
  },
  {
   "cell_type": "code",
   "execution_count": 23,
   "metadata": {},
   "outputs": [
    {
     "data": {
      "image/png": "[encoded data removed]",
      "text/plain": [
       "<Figure size 432x288 with 2 Axes>"
      ]
     },
     "metadata": {
      "needs_background": "light"
     },
     "output_type": "display_data"
    }
   ],
   "source": [
    "# We import the necessary libraries for the plots\n",
    "import seaborn as sn\n",
    "import matplotlib.pyplot as plt\n",
    "\n",
    "# We generated the Correlation Matrix for the entirely numeric matrix that we converted earlier.\n",
    "# It is noteworthy that the entirely numerical matrix is composed of only a few samples, given that the conversion\n",
    "# of the Segment feature is quite time consuming and therefore was not made for the entire matrix.\n",
    "corrMatrix = df_numerical.iloc[:,1:].corr()\n",
    "\n",
    "# Heatmap Plot\n",
    "sn.heatmap(corrMatrix, annot=True)\n",
    "plt.show()"
   ]
  },
  {
   "cell_type": "code",
   "execution_count": 24,
   "metadata": {},
   "outputs": [
    {
     "data": {
      "image/png": "[encoded data removed]",
      "text/plain": [
       "<Figure size 432x288 with 2 Axes>"
      ]
     },
     "metadata": {
      "needs_background": "light"
     },
     "output_type": "display_data"
    }
   ],
   "source": [
    "# Here we use the entirely numeric matrix without a Segment feature. So we were able to use more samples\n",
    "# for the construction of our heatmap.\n",
    "corrMatrix = df_typeless_replace.iloc[:,1:].corr()\n",
    "\n",
    "# Heatmap plot\n",
    "sn.heatmap(corrMatrix, annot=True)\n",
    "plt.show()"
   ]
  },
  {
   "cell_type": "markdown",
   "metadata": {},
   "source": [
    "Even after mapping text values into numerical values, this new numerical information continues to follow a classificatory / categorical paradigm. Therefore, the usual (Pearson) correlation matrix loses its meaning. Therefore, I preferred to do the correlation analysis directly over a more detailed analysis of the\n",
    "Dice.\n",
    "\n",
    "Thus, we were able to perceive some patterns relating the traffic and the regions."
   ]
  },
  {
   "cell_type": "code",
   "execution_count": 25,
   "metadata": {},
   "outputs": [
    {
     "data": {
      "text/plain": [
       "region\n",
       "NORTE       121013614\n",
       "SUL         708726545\n",
       "LESTE       903240438\n",
       "OESTE       992654178\n",
       "CENTRO     1155013516\n",
       "NOWHERE    3711787338\n",
       "Name: jam_size, dtype: int64"
      ]
     },
     "execution_count": 25,
     "metadata": {},
     "output_type": "execute_result"
    }
   ],
   "source": [
    "# We generate the list, in ascending order, of trafficking by region\n",
    "df_region = df_typeless.groupby('region')['jam_size'].sum().sort_values()\n",
    "df_region"
   ]
  },
  {
   "cell_type": "code",
   "execution_count": 26,
   "metadata": {},
   "outputs": [
    {
     "data": {
      "text/plain": [
       "Text(0, 0.5, 'Engarrafamento')"
      ]
     },
     "execution_count": 26,
     "metadata": {},
     "output_type": "execute_result"
    },
    {
     "data": {
      "image/png": "[encoded data removed]",
      "text/plain": [
       "<Figure size 1080x720 with 1 Axes>"
      ]
     },
     "metadata": {
      "needs_background": "light"
     },
     "output_type": "display_data"
    }
   ],
   "source": [
    "# Traffic Bar plot\n",
    "plot_region = df_region.plot.bar(y='jam_size', figsize=(15,10), title='Traffic per region of Sao Paulo')\n",
    "plot_region.set_xlabel(\"Regions\")\n",
    "plot_region.set_ylabel(\"Traffic\")"
   ]
  },
  {
   "cell_type": "markdown",
   "metadata": {},
   "source": [
    "## Analyze:\n",
    "\n",
    "With that, we can see that the North region has very little traffic compared to the others. Therefore, the first correlation that we can assume is that there is a coefficient inversely proportional to traffic and proximity to the northern region. The closer to other regions, the greater the traffic.\n",
    "\n",
    "However, we must continue to analyze the data from other perspectives."
   ]
  },
  {
   "cell_type": "code",
   "execution_count": 27,
   "metadata": {},
   "outputs": [
    {
     "data": {
      "text/plain": [
       "Text(0, 0.5, 'Traffic')"
      ]
     },
     "execution_count": 27,
     "metadata": {},
     "output_type": "execute_result"
    },
    {
     "data": {
      "image/png": "[encoded data removed]",
      "text/plain": [
       "<Figure size 1080x720 with 1 Axes>"
      ]
     },
     "metadata": {
      "needs_background": "light"
     },
     "output_type": "display_data"
    }
   ],
   "source": [
    "# We generate a traffic dataframe for each of the crossings\n",
    "df_passage = df_typeless.groupby('passage', as_index=False)['jam_size'].sum().sort_values('jam_size')\n",
    "\n",
    "# So we chose the 15 most trafficked segments and analyzed their distribution.\n",
    "plot_passages = df_passage[-15:].plot.bar(x='passage', y='jam_size', figsize=(15,10), title='Traffic level of the busiest passages in the city of São Paulo')\n",
    "plot_passages.set_xlabel(\"Streets of Sao Paulo\")\n",
    "plot_passages.set_ylabel(\"Traffic\")"
   ]
  },
  {
   "cell_type": "markdown",
   "metadata": {},
   "source": [
    "## Analyze:\n",
    "\n",
    "Now, we realize that Marginal Tietê and Marginal Pinheiros are responsible for the great part of the general traffic perceived in the dataset.\n",
    "\n",
    "Adding this information to that previously perceived, we can assume that both Avenues are either not connected to the North Region of São Paulo, or if they are, they do not cause major traffic jams in the northern part of the city.\n",
    "\n",
    "**This could mean**: Or that the sensors in the North region, which fed the database, are defective, which would explain this great difference in traffic in the region, together with an increase in NOWHERE data; Or that for some reason, fewer people go to the North through these major routes.\n",
    "\n",
    "To better understand the issue, I searched for the map of São Paulo. We see below."
   ]
  },
  {
   "cell_type": "markdown",
   "metadata": {},
   "source": [
    "#### Marginal Tietê:\n",
    "\"It is considered the main expressway in the city of São Paulo, as it interconnects the west, **north**, central and east regions of the city. In addition, it connects directly to the Castelo Branco, Anhanguera, Bandeirantes, Presidente Dutra highways, Fernão Dias and Ayrton Senna and to the São Paulo-Guarulhos International Airport. \""
   ]
  },
  {
   "cell_type": "markdown",
   "metadata": {},
   "source": [
    "<img src=\"Images/MapaSP.png\">"
   ]
  },
  {
   "cell_type": "markdown",
   "metadata": {},
   "source": [
    "Thus, we can see from the map that, in fact, Avenida Marginal Pinheiro does not include the northern region of São Paulo.\n",
    "\n",
    "However, as the definition of the Marginal Tietê itself indicates, it is a road that connects the west, **North**, central and east regions. Given its importance and extent, it seems more likely that, in fact, it was a problem in the sensors than a low transitivity of cars.\n",
    "\n",
    "It is worth mentioning that I do not live in São Paulo, so I am making assumptions totally data-wise.\n",
    "\n",
    "We continue our analysis below."
   ]
  },
  {
   "cell_type": "code",
   "execution_count": 28,
   "metadata": {},
   "outputs": [
    {
     "data": {
      "text/plain": [
       "['Salim Farah Maluf, Av/Tatuapé, Pte      ',\n",
       " 'Luiz Ignácio de Anhaia Mello, Av Prof   ',\n",
       " 'Ligação Leste-Oeste                     ',\n",
       " 'Nove de Julho, Av                       ',\n",
       " 'Radial Leste - DEC BR                   ',\n",
       " 'Estado, Av do - DEC CT                  ',\n",
       " 'Paulista, Av                            ',\n",
       " 'Marginal Tietê - Pista Central          ',\n",
       " 'Radial Leste - DEC MO                   ',\n",
       " 'Vale/P.Maia/Tirad/S.Dumont              ',\n",
       " 'Rebouças/ Eusébio Matoso,  Av           ',\n",
       " 'Bandeirantes, Av dos                    ',\n",
       " 'Vinte Três/R Berta/M Guimarães          ',\n",
       " 'Marginal Pinheiros                      ',\n",
       " 'Marginal Tietê                          ']"
      ]
     },
     "execution_count": 28,
     "metadata": {},
     "output_type": "execute_result"
    }
   ],
   "source": [
    "# Once the main passages are recognized, we generate a list with their names.\n",
    "top_passage = df_passage[-15:]['passage'].to_list()\n",
    "top_passage"
   ]
  },
  {
   "cell_type": "code",
   "execution_count": 29,
   "metadata": {},
   "outputs": [
    {
     "data": {
      "text/html": [
       "<div>\n",
       "<style scoped>\n",
       "    .dataframe tbody tr th:only-of-type {\n",
       "        vertical-align: middle;\n",
       "    }\n",
       "\n",
       "    .dataframe tbody tr th {\n",
       "        vertical-align: top;\n",
       "    }\n",
       "\n",
       "    .dataframe thead th {\n",
       "        text-align: right;\n",
       "    }\n",
       "</style>\n",
       "<table border=\"1\" class=\"dataframe\">\n",
       "  <thead>\n",
       "    <tr style=\"text-align: right;\">\n",
       "      <th></th>\n",
       "      <th>passage</th>\n",
       "      <th>region</th>\n",
       "      <th>jam_size</th>\n",
       "    </tr>\n",
       "  </thead>\n",
       "  <tbody>\n",
       "    <tr>\n",
       "      <th>5</th>\n",
       "      <td>Abraão Ribeiro, Av Dr (F)</td>\n",
       "      <td>NOWHERE</td>\n",
       "      <td>740432.0</td>\n",
       "    </tr>\n",
       "    <tr>\n",
       "      <th>10</th>\n",
       "      <td>Abraão de Morais, Av Prof/Imig</td>\n",
       "      <td>SUL</td>\n",
       "      <td>15436869.0</td>\n",
       "    </tr>\n",
       "    <tr>\n",
       "      <th>11</th>\n",
       "      <td>Abraão de Morais, Av Prof/Imig</td>\n",
       "      <td>NOWHERE</td>\n",
       "      <td>5577835.0</td>\n",
       "    </tr>\n",
       "    <tr>\n",
       "      <th>17</th>\n",
       "      <td>Abraão de Morais, Av Prof/Imigrantes (F)</td>\n",
       "      <td>NOWHERE</td>\n",
       "      <td>2527438.0</td>\n",
       "    </tr>\n",
       "    <tr>\n",
       "      <th>22</th>\n",
       "      <td>Adolfo Pinheiro e Lgo 13/05</td>\n",
       "      <td>SUL</td>\n",
       "      <td>154326.0</td>\n",
       "    </tr>\n",
       "    <tr>\n",
       "      <th>...</th>\n",
       "      <td>...</td>\n",
       "      <td>...</td>\n",
       "      <td>...</td>\n",
       "    </tr>\n",
       "    <tr>\n",
       "      <th>1642</th>\n",
       "      <td>Washington Luis, Av</td>\n",
       "      <td>SUL</td>\n",
       "      <td>65554904.0</td>\n",
       "    </tr>\n",
       "    <tr>\n",
       "      <th>1643</th>\n",
       "      <td>Washington Luis, Av</td>\n",
       "      <td>NOWHERE</td>\n",
       "      <td>25287412.0</td>\n",
       "    </tr>\n",
       "    <tr>\n",
       "      <th>1649</th>\n",
       "      <td>XXX</td>\n",
       "      <td>NOWHERE</td>\n",
       "      <td>30440.0</td>\n",
       "    </tr>\n",
       "    <tr>\n",
       "      <th>1650</th>\n",
       "      <td>Xangai, Vd</td>\n",
       "      <td>CENTRO</td>\n",
       "      <td>133632.0</td>\n",
       "    </tr>\n",
       "    <tr>\n",
       "      <th>1655</th>\n",
       "      <td>Xangai, Vd</td>\n",
       "      <td>NOWHERE</td>\n",
       "      <td>67564.0</td>\n",
       "    </tr>\n",
       "  </tbody>\n",
       "</table>\n",
       "<p>455 rows × 3 columns</p>\n",
       "</div>"
      ],
      "text/plain": [
       "                                       passage   region    jam_size\n",
       "5     Abraão Ribeiro, Av Dr (F)                 NOWHERE    740432.0\n",
       "10    Abraão de Morais, Av Prof/Imig                SUL  15436869.0\n",
       "11    Abraão de Morais, Av Prof/Imig            NOWHERE   5577835.0\n",
       "17    Abraão de Morais, Av Prof/Imigrantes (F)  NOWHERE   2527438.0\n",
       "22    Adolfo Pinheiro e Lgo 13/05                   SUL    154326.0\n",
       "...                                        ...      ...         ...\n",
       "1642  Washington Luis, Av                           SUL  65554904.0\n",
       "1643  Washington Luis, Av                       NOWHERE  25287412.0\n",
       "1649  XXX                                       NOWHERE     30440.0\n",
       "1650  Xangai, Vd                                 CENTRO    133632.0\n",
       "1655  Xangai, Vd                                NOWHERE     67564.0\n",
       "\n",
       "[455 rows x 3 columns]"
      ]
     },
     "execution_count": 29,
     "metadata": {},
     "output_type": "execute_result"
    }
   ],
   "source": [
    "# We group by region and passage, so that it can be possible to check in which regions each passage generated\n",
    "# traffic\n",
    "top_traffic = df_typeless.groupby(['passage', 'region'], as_index=False)['jam_size'].sum()\n",
    "top_traffic.dropna(inplace=True)\n",
    "top_traffic"
   ]
  },
  {
   "cell_type": "code",
   "execution_count": 30,
   "metadata": {},
   "outputs": [
    {
     "data": {
      "text/plain": [
       "Text(0, 0.5, 'Traffic')"
      ]
     },
     "execution_count": 30,
     "metadata": {},
     "output_type": "execute_result"
    },
    {
     "data": {
      "image/png": "[encoded data removed]",
      "text/plain": [
       "<Figure size 1080x720 with 1 Axes>"
      ]
     },
     "metadata": {
      "needs_background": "light"
     },
     "output_type": "display_data"
    }
   ],
   "source": [
    "# We only screen the dataset with the tickets that generated the most traffic, so that we can identify your regions\n",
    "top_traffic_reg = top_traffic[top_traffic['passage'].isin(top_passage)]\n",
    "top_traffic_reg = top_traffic_reg.groupby('region').sum().sort_values('jam_size')\n",
    "plot_traffic = top_traffic_reg.plot.bar(y='jam_size', figsize=(15,10), title='Traffic distribution by region of the 15 busiest routes')\n",
    "plot_traffic.set_xlabel(\"Regions\")\n",
    "plot_traffic.set_ylabel(\"Traffic\")"
   ]
  },
  {
   "cell_type": "code",
   "execution_count": 32,
   "metadata": {},
   "outputs": [
    {
     "name": "stdout",
     "output_type": "stream",
     "text": [
      "The traffic generated on these tickets represents 0.685995% of the general traffic\n"
     ]
    }
   ],
   "source": [
    "# Calculate how many percent of the traffic generated in these passages represents the general traffic.\n",
    "pctg_all_traf = top_traffic_reg.sum()[0]/df_typeless['jam_size'].sum()\n",
    "print('The traffic generated on these tickets represents %f%% of the general traffic' % pctg_all_traf)"
   ]
  },
  {
   "cell_type": "markdown",
   "metadata": {},
   "source": [
    "## Analyze :\n",
    "\n",
    "Finally, as a last analysis of this topic, we divided the traffic of the 15 busiest passages in São Paulo by region. Thus, we can see that among the main traits of the dataset, none are found in the North region, thus confirming our first analysis of the negative correlation between the North region and heavy traffic.\n",
    "\n",
    "The influence of these 15 routes on the traffic in the city of São Paulo is quite high, given that together, they account for almost 70% of the total traffic in São Paulo.\n",
    "\n",
    "We can also see that among these 15 main routes, very little movement is registered in the South region. With this, we can indicate another possible negative correlation of trafficking also with the South region, so that the more distant from the South and North region, the greater the chance of traffic."
   ]
  },
  {
   "cell_type": "markdown",
   "metadata": {},
   "source": [
    "## 5 - Traffic jams\n",
    "\n",
    "- Plot a graph of the distribution of traffic jams being aggregated by year.\n",
    "- Plot a graph of the distribution of traffic jams being aggregated by month.\n",
    "- Plot a graph of the distribution of traffic jams being aggregated by day of the week.\n",
    "- Plot a graph of the distribution of traffic jams being aggregated by time of day.\n",
    "- Comment on the results obtained, are there any trends?"
   ]
  },
  {
   "cell_type": "code",
   "execution_count": 33,
   "metadata": {},
   "outputs": [],
   "source": [
    "# import required for timestamp treatment\n",
    "from dateutil.parser import parse\n",
    "\n",
    "# We make one more copy to avoid overwriting the memory.\n",
    "engarrafamento = df_typeless.copy()"
   ]
  },
  {
   "cell_type": "code",
   "execution_count": 34,
   "metadata": {},
   "outputs": [],
   "source": [
    "# We have broken down the timestamp column into new columns: Year, Month, Day of the Week, Time.\n",
    "engarrafamento['year'] = pd.DatetimeIndex(engarrafamento['timestamp']).year\n",
    "engarrafamento['month'] = engarrafamento['timestamp'].apply(lambda x: x.strftime(\"%B\"))\n",
    "engarrafamento['weekday'] = engarrafamento['timestamp'].apply(lambda x: x.strftime(\"%A\"))\n",
    "engarrafamento['hour'] = engarrafamento['timestamp'].apply(lambda x: int(x.strftime(\"%-H\")))"
   ]
  },
  {
   "cell_type": "code",
   "execution_count": 35,
   "metadata": {},
   "outputs": [
    {
     "data": {
      "text/html": [
       "<div>\n",
       "<style scoped>\n",
       "    .dataframe tbody tr th:only-of-type {\n",
       "        vertical-align: middle;\n",
       "    }\n",
       "\n",
       "    .dataframe tbody tr th {\n",
       "        vertical-align: top;\n",
       "    }\n",
       "\n",
       "    .dataframe thead th {\n",
       "        text-align: right;\n",
       "    }\n",
       "</style>\n",
       "<table border=\"1\" class=\"dataframe\">\n",
       "  <thead>\n",
       "    <tr style=\"text-align: right;\">\n",
       "      <th></th>\n",
       "      <th>index</th>\n",
       "      <th>passage</th>\n",
       "      <th>direction</th>\n",
       "      <th>region</th>\n",
       "      <th>timestamp</th>\n",
       "      <th>jam_size</th>\n",
       "      <th>segment</th>\n",
       "      <th>year</th>\n",
       "      <th>month</th>\n",
       "      <th>weekday</th>\n",
       "      <th>hour</th>\n",
       "    </tr>\n",
       "  </thead>\n",
       "  <tbody>\n",
       "    <tr>\n",
       "      <th>0</th>\n",
       "      <td>0</td>\n",
       "      <td>Jânio Quadros, Túnel</td>\n",
       "      <td>unico//</td>\n",
       "      <td>OESTE</td>\n",
       "      <td>2015-01-04 14:30:00</td>\n",
       "      <td>799</td>\n",
       "      <td>De OSCAR AMERICANO até  JUSCELINO KUBITSCHEK</td>\n",
       "      <td>2015</td>\n",
       "      <td>January</td>\n",
       "      <td>Sunday</td>\n",
       "      <td>14</td>\n",
       "    </tr>\n",
       "    <tr>\n",
       "      <th>1</th>\n",
       "      <td>1</td>\n",
       "      <td>Juscelino Kubitschek, Av Pres</td>\n",
       "      <td>Ibirapuera/Pinheiros</td>\n",
       "      <td>SUL</td>\n",
       "      <td>2015-01-04 14:30:00</td>\n",
       "      <td>260</td>\n",
       "      <td>De  Emboque Túnel Jânio Quadros até 290 m depo...</td>\n",
       "      <td>2015</td>\n",
       "      <td>January</td>\n",
       "      <td>Sunday</td>\n",
       "      <td>14</td>\n",
       "    </tr>\n",
       "    <tr>\n",
       "      <th>2</th>\n",
       "      <td>2</td>\n",
       "      <td>Jânio Quadros, Túnel</td>\n",
       "      <td>unico//</td>\n",
       "      <td>OESTE</td>\n",
       "      <td>2015-01-04 15:00:00</td>\n",
       "      <td>799</td>\n",
       "      <td>De OSCAR AMERICANO até  JUSCELINO KUBITSCHEK</td>\n",
       "      <td>2015</td>\n",
       "      <td>January</td>\n",
       "      <td>Sunday</td>\n",
       "      <td>15</td>\n",
       "    </tr>\n",
       "    <tr>\n",
       "      <th>3</th>\n",
       "      <td>3</td>\n",
       "      <td>Juscelino Kubitschek, Av Pres</td>\n",
       "      <td>Ibirapuera/Pinheiros</td>\n",
       "      <td>SUL</td>\n",
       "      <td>2015-01-04 15:00:00</td>\n",
       "      <td>260</td>\n",
       "      <td>De  Emboque Túnel Jânio Quadros até 290 m depo...</td>\n",
       "      <td>2015</td>\n",
       "      <td>January</td>\n",
       "      <td>Sunday</td>\n",
       "      <td>15</td>\n",
       "    </tr>\n",
       "    <tr>\n",
       "      <th>4</th>\n",
       "      <td>4</td>\n",
       "      <td>Jânio Quadros, Túnel</td>\n",
       "      <td>unico//</td>\n",
       "      <td>OESTE</td>\n",
       "      <td>2015-01-04 15:30:00</td>\n",
       "      <td>799</td>\n",
       "      <td>De OSCAR AMERICANO até  JUSCELINO KUBITSCHEK</td>\n",
       "      <td>2015</td>\n",
       "      <td>January</td>\n",
       "      <td>Sunday</td>\n",
       "      <td>15</td>\n",
       "    </tr>\n",
       "    <tr>\n",
       "      <th>...</th>\n",
       "      <td>...</td>\n",
       "      <td>...</td>\n",
       "      <td>...</td>\n",
       "      <td>...</td>\n",
       "      <td>...</td>\n",
       "      <td>...</td>\n",
       "      <td>...</td>\n",
       "      <td>...</td>\n",
       "      <td>...</td>\n",
       "      <td>...</td>\n",
       "      <td>...</td>\n",
       "    </tr>\n",
       "    <tr>\n",
       "      <th>5223443</th>\n",
       "      <td>230195</td>\n",
       "      <td>Marginal Pinheiros</td>\n",
       "      <td>Interlagos/Castelo</td>\n",
       "      <td>OESTE</td>\n",
       "      <td>2018-09-30 18:30:00</td>\n",
       "      <td>3820</td>\n",
       "      <td>De CIDADE UNIVERSITARIA até 350 m depois de JU...</td>\n",
       "      <td>2018</td>\n",
       "      <td>September</td>\n",
       "      <td>Sunday</td>\n",
       "      <td>18</td>\n",
       "    </tr>\n",
       "    <tr>\n",
       "      <th>5223444</th>\n",
       "      <td>230196</td>\n",
       "      <td>Marginal Pinheiros</td>\n",
       "      <td>Interlagos/Castelo</td>\n",
       "      <td>OESTE</td>\n",
       "      <td>2018-09-30 19:00:00</td>\n",
       "      <td>4640</td>\n",
       "      <td>De CIDADE UNIVERSITARIA até 700 m depois de QU...</td>\n",
       "      <td>2018</td>\n",
       "      <td>September</td>\n",
       "      <td>Sunday</td>\n",
       "      <td>19</td>\n",
       "    </tr>\n",
       "    <tr>\n",
       "      <th>5223445</th>\n",
       "      <td>230197</td>\n",
       "      <td>Marginal Pinheiros</td>\n",
       "      <td>Interlagos/Castelo</td>\n",
       "      <td>OESTE</td>\n",
       "      <td>2018-09-30 19:00:00</td>\n",
       "      <td>3820</td>\n",
       "      <td>De CIDADE UNIVERSITARIA até 350 m depois de JU...</td>\n",
       "      <td>2018</td>\n",
       "      <td>September</td>\n",
       "      <td>Sunday</td>\n",
       "      <td>19</td>\n",
       "    </tr>\n",
       "    <tr>\n",
       "      <th>5223446</th>\n",
       "      <td>230198</td>\n",
       "      <td>Marginal Pinheiros</td>\n",
       "      <td>Interlagos/Castelo</td>\n",
       "      <td>OESTE</td>\n",
       "      <td>2018-09-30 19:30:00</td>\n",
       "      <td>4640</td>\n",
       "      <td>De CIDADE UNIVERSITARIA até 700 m depois de QU...</td>\n",
       "      <td>2018</td>\n",
       "      <td>September</td>\n",
       "      <td>Sunday</td>\n",
       "      <td>19</td>\n",
       "    </tr>\n",
       "    <tr>\n",
       "      <th>5223447</th>\n",
       "      <td>230199</td>\n",
       "      <td>Marginal Pinheiros</td>\n",
       "      <td>Interlagos/Castelo</td>\n",
       "      <td>OESTE</td>\n",
       "      <td>2018-09-30 19:30:00</td>\n",
       "      <td>3820</td>\n",
       "      <td>De CIDADE UNIVERSITARIA até 350 m depois de JU...</td>\n",
       "      <td>2018</td>\n",
       "      <td>September</td>\n",
       "      <td>Sunday</td>\n",
       "      <td>19</td>\n",
       "    </tr>\n",
       "  </tbody>\n",
       "</table>\n",
       "<p>5223448 rows × 11 columns</p>\n",
       "</div>"
      ],
      "text/plain": [
       "          index                                   passage  \\\n",
       "0             0  Jânio Quadros, Túnel                       \n",
       "1             1  Juscelino Kubitschek, Av Pres              \n",
       "2             2  Jânio Quadros, Túnel                       \n",
       "3             3  Juscelino Kubitschek, Av Pres              \n",
       "4             4  Jânio Quadros, Túnel                       \n",
       "...         ...                                       ...   \n",
       "5223443  230195  Marginal Pinheiros                         \n",
       "5223444  230196  Marginal Pinheiros                         \n",
       "5223445  230197  Marginal Pinheiros                         \n",
       "5223446  230198  Marginal Pinheiros                         \n",
       "5223447  230199  Marginal Pinheiros                         \n",
       "\n",
       "                                        direction region           timestamp  \\\n",
       "0        unico//                                   OESTE 2015-01-04 14:30:00   \n",
       "1        Ibirapuera/Pinheiros                        SUL 2015-01-04 14:30:00   \n",
       "2        unico//                                   OESTE 2015-01-04 15:00:00   \n",
       "3        Ibirapuera/Pinheiros                        SUL 2015-01-04 15:00:00   \n",
       "4        unico//                                   OESTE 2015-01-04 15:30:00   \n",
       "...                                           ...    ...                 ...   \n",
       "5223443  Interlagos/Castelo                        OESTE 2018-09-30 18:30:00   \n",
       "5223444  Interlagos/Castelo                        OESTE 2018-09-30 19:00:00   \n",
       "5223445  Interlagos/Castelo                        OESTE 2018-09-30 19:00:00   \n",
       "5223446  Interlagos/Castelo                        OESTE 2018-09-30 19:30:00   \n",
       "5223447  Interlagos/Castelo                        OESTE 2018-09-30 19:30:00   \n",
       "\n",
       "         jam_size                                            segment  year  \\\n",
       "0             799       De OSCAR AMERICANO até  JUSCELINO KUBITSCHEK  2015   \n",
       "1             260  De  Emboque Túnel Jânio Quadros até 290 m depo...  2015   \n",
       "2             799       De OSCAR AMERICANO até  JUSCELINO KUBITSCHEK  2015   \n",
       "3             260  De  Emboque Túnel Jânio Quadros até 290 m depo...  2015   \n",
       "4             799       De OSCAR AMERICANO até  JUSCELINO KUBITSCHEK  2015   \n",
       "...           ...                                                ...   ...   \n",
       "5223443      3820  De CIDADE UNIVERSITARIA até 350 m depois de JU...  2018   \n",
       "5223444      4640  De CIDADE UNIVERSITARIA até 700 m depois de QU...  2018   \n",
       "5223445      3820  De CIDADE UNIVERSITARIA até 350 m depois de JU...  2018   \n",
       "5223446      4640  De CIDADE UNIVERSITARIA até 700 m depois de QU...  2018   \n",
       "5223447      3820  De CIDADE UNIVERSITARIA até 350 m depois de JU...  2018   \n",
       "\n",
       "             month weekday  hour  \n",
       "0          January  Sunday    14  \n",
       "1          January  Sunday    14  \n",
       "2          January  Sunday    15  \n",
       "3          January  Sunday    15  \n",
       "4          January  Sunday    15  \n",
       "...            ...     ...   ...  \n",
       "5223443  September  Sunday    18  \n",
       "5223444  September  Sunday    19  \n",
       "5223445  September  Sunday    19  \n",
       "5223446  September  Sunday    19  \n",
       "5223447  September  Sunday    19  \n",
       "\n",
       "[5223448 rows x 11 columns]"
      ]
     },
     "execution_count": 35,
     "metadata": {},
     "output_type": "execute_result"
    }
   ],
   "source": [
    "# Sampling\n",
    "engarrafamento"
   ]
  },
  {
   "cell_type": "markdown",
   "metadata": {},
   "source": [
    "### Chart of the traffic jams distribution being aggregated by year"
   ]
  },
  {
   "cell_type": "code",
   "execution_count": 36,
   "metadata": {},
   "outputs": [
    {
     "data": {
      "text/plain": [
       "Text(0, 0.5, 'Traffic')"
      ]
     },
     "execution_count": 36,
     "metadata": {},
     "output_type": "execute_result"
    },
    {
     "data": {
      "image/png": "[encoded data removed]",
      "text/plain": [
       "<Figure size 1080x720 with 1 Axes>"
      ]
     },
     "metadata": {
      "needs_background": "light"
     },
     "output_type": "display_data"
    }
   ],
   "source": [
    "# Sampling by traffic per year\n",
    "df_year = engarrafamento.groupby('year').sum()\n",
    "plot_year = df_year.plot.bar(y='jam_size', figsize=(15,10), title='Traffic Aggregated by year')\n",
    "plot_year.set_xlabel(\"Years\")\n",
    "plot_year.set_ylabel(\"Traffic\")"
   ]
  },
  {
   "cell_type": "markdown",
   "metadata": {},
   "source": [
    "### Chart of the traffic jams distribution being aggregated by month"
   ]
  },
  {
   "cell_type": "code",
   "execution_count": 37,
   "metadata": {},
   "outputs": [
    {
     "data": {
      "text/plain": [
       "Text(0, 0.5, 'Traffic')"
      ]
     },
     "execution_count": 37,
     "metadata": {},
     "output_type": "execute_result"
    },
    {
     "data": {
      "image/png": "[encoded data removed]",
      "text/plain": [
       "<Figure size 1080x720 with 1 Axes>"
      ]
     },
     "metadata": {
      "needs_background": "light"
     },
     "output_type": "display_data"
    }
   ],
   "source": [
    "# Sampling by traffic per month\n",
    "months_order = ['January', 'February', 'March', 'April', 'May', 'June', 'July', 'August', 'September', 'October', 'November', 'December']\n",
    "df_month = engarrafamento.groupby('month').sum().loc[months_order]\n",
    "plot_month = df_month.plot.bar(y='jam_size', figsize=(15,10), title='Traffic Aggregated by Month')\n",
    "plot_month.set_xlabel(\"Months\")\n",
    "plot_month.set_ylabel(\"Traffic\")"
   ]
  },
  {
   "cell_type": "markdown",
   "metadata": {},
   "source": [
    "### Chart of the traffic jams distribution being aggregated by days of the week"
   ]
  },
  {
   "cell_type": "code",
   "execution_count": 38,
   "metadata": {},
   "outputs": [
    {
     "data": {
      "text/plain": [
       "Text(0, 0.5, 'Traffic')"
      ]
     },
     "execution_count": 38,
     "metadata": {},
     "output_type": "execute_result"
    },
    {
     "data": {
      "image/png": "[encoded data removed]",
      "text/plain": [
       "<Figure size 1080x720 with 1 Axes>"
      ]
     },
     "metadata": {
      "needs_background": "light"
     },
     "output_type": "display_data"
    }
   ],
   "source": [
    "# Sampling by traffic by Day of the Week\n",
    "# Days order\n",
    "weekday_order = ['Sunday', 'Monday', 'Tuesday', 'Wednesday', 'Thursday', 'Friday', 'Saturday']\n",
    "\n",
    "# Ordered plot\n",
    "df_weekday = engarrafamento.groupby('weekday').sum().loc[weekday_order]\n",
    "plot_weekday = df_weekday.plot.bar(y='jam_size', figsize=(15,10), title='Traffic Aggregate by days of the week')\n",
    "plot_weekday.set_xlabel(\"Days of week\")\n",
    "plot_weekday.set_ylabel(\"Traffic\")"
   ]
  },
  {
   "cell_type": "markdown",
   "metadata": {},
   "source": [
    "### Chart of the traffic jams distribution being aggregated by hours of the day"
   ]
  },
  {
   "cell_type": "code",
   "execution_count": 41,
   "metadata": {},
   "outputs": [
    {
     "data": {
      "text/plain": [
       "Text(0, 0.5, 'Engarrafamento')"
      ]
     },
     "execution_count": 41,
     "metadata": {},
     "output_type": "execute_result"
    },
    {
     "data": {
      "image/png": "[encoded data removed]",
      "text/plain": [
       "<Figure size 1080x720 with 1 Axes>"
      ]
     },
     "metadata": {
      "needs_background": "light"
     },
     "output_type": "display_data"
    }
   ],
   "source": [
    "df_hour = engarrafamento.groupby('hour').sum()\n",
    "plot_hour = df_hour.plot.bar(y='jam_size', figsize=(15,10), title='Traffic Aggregated by hours of the day')\n",
    "plot_hour.set_xlabel(\"Hours of the day\")\n",
    "plot_hour.set_ylabel(\"Traffic\")"
   ]
  },
  {
   "cell_type": "markdown",
   "metadata": {},
   "source": [
    "## Analyze:\n",
    "\n",
    "From the graphs, we can see some interesting trends.\n",
    "\n",
    "According to the annual data, we cannot say much. However, looking at the monthly data, we can see that there is a decline in the traffic jam for the months of June and July, December and January. This decrease may be due to student vacations, thus reducing traffic towards schools and universities.\n",
    "\n",
    "On the daily chart, we can see the clear decrease in traffic jam at the weekend, which was already expected.\n",
    "\n",
    "Finally, in the chart separated by hours, we can see that at dawn there is almost no movement compared to peak working hours, with a slight decline in lunch hours.\n",
    "\n",
    "Thus, we can prove that the data truly portrays reality phenomena as we have speculated."
   ]
  },
  {
   "cell_type": "code",
   "execution_count": 39,
   "metadata": {},
   "outputs": [],
   "source": [
    "## BACKUP of the main Dataset previously treated, for later use\n",
    "\n",
    "# We save the dataframe that contains all converts to numeric format, except segment.\n",
    "df_typeless_replace.to_csv('Backup_DataSets/typeless_r_df.csv')\n",
    "\n",
    "# We also save the original dataset in csv format, so that we can use it in case of Dask, if necessary.\n",
    "df.to_csv('Backup_DataSets/df_orig.csv')\n",
    "\n",
    "# Data without NaN and without the Type column\n",
    "df_typeless.to_csv('Backup_DataSets/typeless_df.csv')\n",
    "\n",
    "# For the SQL case, we will use the typeless dataset\n",
    "engarrafamento.to_csv('Backup_DataSets/engarrafamento.csv')"
   ]
  },
  {
   "cell_type": "markdown",
   "metadata": {},
   "source": [
    "## 6 - Parallel computing\n",
    "\n",
    "- Use a tool for reading and parallel processing of the data in question (Suggestion: PySpark, Dask)."
   ]
  },
  {
   "cell_type": "markdown",
   "metadata": {},
   "source": [
    "## Motivation:\n",
    "\n",
    "Using the normal python programming environment, we don't use all of the hardware resources. Parallel computing comes with this purpose, to increase the performance of processing using parallelisms, which generate an overlap of tasks and, therefore, a faster execution of the same activity.\n",
    "\n",
    "These practices have become more common with the advent of Big Data. Thus, the motivation I see in this question is to try to solve the problem that was presented in the question of categorical data, with the Segment column.\n",
    "\n",
    "Revisiting the question, you can see that I tried to do it manually, using Pandas, which Dask does by default, which is slicing the dataset, aiming to perform several smaller tasks instead of a giant task. This was necessary because, when I tried to apply the replace () function directly to the entire data set, my kernel killed the process, as it was consuming a lot of memory.\n",
    "\n",
    "So, this is the main task that I want to solve using parallel computing techniques, since slicing Pandas and applying the replace function iteratively is very efficient, especially due to the greatness of the dictionary in question."
   ]
  },
  {
   "cell_type": "code",
   "execution_count": null,
   "metadata": {},
   "outputs": [],
   "source": [
    "# We import the Dask dataframe, and the distribution functions, so that we can follow the performance of the dask\n",
    "# via Dashboard\n",
    "import dask.dataframe as dd \n",
    "from dask.distributed import Client, LocalCluster\n",
    "\n",
    "# Client\n",
    "cluster = LocalCluster()\n",
    "client = Client(cluster)\n",
    "\n",
    "# Start the client\n",
    "client"
   ]
  },
  {
   "cell_type": "code",
   "execution_count": null,
   "metadata": {},
   "outputs": [],
   "source": [
    "# We read our typeless dataset in Dask Dataframe format\n",
    "ddf = dd.read_csv('Backup_DataSets/typeless_r_df.csv')\n",
    "\n",
    "# Given the size of the dataset, we divide it into npartitions in order to increase computing power\n",
    "# Dask parallel.\n",
    "ddf = ddf.repartition(npartitions=10000)\n",
    "ddf.head()"
   ]
  },
  {
   "cell_type": "code",
   "execution_count": null,
   "metadata": {},
   "outputs": [],
   "source": [
    "# Then we use Dask's replace function which has an interface very close to Pandas. So, we spend\n",
    "# our Segment dictionary as a parameter for mapping and replacing values.\n",
    "final_numerical_df = ddf.replace(dictio_segment)"
   ]
  },
  {
   "cell_type": "code",
   "execution_count": 49,
   "metadata": {},
   "outputs": [
    {
     "data": {
      "text/html": [
       "<div>\n",
       "<style scoped>\n",
       "    .dataframe tbody tr th:only-of-type {\n",
       "        vertical-align: middle;\n",
       "    }\n",
       "\n",
       "    .dataframe tbody tr th {\n",
       "        vertical-align: top;\n",
       "    }\n",
       "\n",
       "    .dataframe thead th {\n",
       "        text-align: right;\n",
       "    }\n",
       "</style>\n",
       "<table border=\"1\" class=\"dataframe\">\n",
       "  <thead>\n",
       "    <tr style=\"text-align: right;\">\n",
       "      <th></th>\n",
       "      <th>Unnamed: 0</th>\n",
       "      <th>index</th>\n",
       "      <th>passage</th>\n",
       "      <th>direction</th>\n",
       "      <th>region</th>\n",
       "      <th>timestamp</th>\n",
       "      <th>jam_size</th>\n",
       "      <th>segment</th>\n",
       "    </tr>\n",
       "  </thead>\n",
       "  <tbody>\n",
       "    <tr>\n",
       "      <th>301984</th>\n",
       "      <td>5223443</td>\n",
       "      <td>230195</td>\n",
       "      <td>171</td>\n",
       "      <td>34</td>\n",
       "      <td>4</td>\n",
       "      <td>2018-09-30 18:30:00</td>\n",
       "      <td>3820</td>\n",
       "      <td>75975</td>\n",
       "    </tr>\n",
       "    <tr>\n",
       "      <th>301985</th>\n",
       "      <td>5223444</td>\n",
       "      <td>230196</td>\n",
       "      <td>171</td>\n",
       "      <td>34</td>\n",
       "      <td>4</td>\n",
       "      <td>2018-09-30 19:00:00</td>\n",
       "      <td>4640</td>\n",
       "      <td>76073</td>\n",
       "    </tr>\n",
       "    <tr>\n",
       "      <th>301986</th>\n",
       "      <td>5223445</td>\n",
       "      <td>230197</td>\n",
       "      <td>171</td>\n",
       "      <td>34</td>\n",
       "      <td>4</td>\n",
       "      <td>2018-09-30 19:00:00</td>\n",
       "      <td>3820</td>\n",
       "      <td>75975</td>\n",
       "    </tr>\n",
       "    <tr>\n",
       "      <th>301987</th>\n",
       "      <td>5223446</td>\n",
       "      <td>230198</td>\n",
       "      <td>171</td>\n",
       "      <td>34</td>\n",
       "      <td>4</td>\n",
       "      <td>2018-09-30 19:30:00</td>\n",
       "      <td>4640</td>\n",
       "      <td>76073</td>\n",
       "    </tr>\n",
       "    <tr>\n",
       "      <th>301988</th>\n",
       "      <td>5223447</td>\n",
       "      <td>230199</td>\n",
       "      <td>171</td>\n",
       "      <td>34</td>\n",
       "      <td>4</td>\n",
       "      <td>2018-09-30 19:30:00</td>\n",
       "      <td>3820</td>\n",
       "      <td>75975</td>\n",
       "    </tr>\n",
       "  </tbody>\n",
       "</table>\n",
       "</div>"
      ],
      "text/plain": [
       "        Unnamed: 0   index  passage  direction  region            timestamp  \\\n",
       "301984     5223443  230195      171         34       4  2018-09-30 18:30:00   \n",
       "301985     5223444  230196      171         34       4  2018-09-30 19:00:00   \n",
       "301986     5223445  230197      171         34       4  2018-09-30 19:00:00   \n",
       "301987     5223446  230198      171         34       4  2018-09-30 19:30:00   \n",
       "301988     5223447  230199      171         34       4  2018-09-30 19:30:00   \n",
       "\n",
       "        jam_size  segment  \n",
       "301984      3820    75975  \n",
       "301985      4640    76073  \n",
       "301986      3820    75975  \n",
       "301987      4640    76073  \n",
       "301988      3820    75975  "
      ]
     },
     "execution_count": 49,
     "metadata": {},
     "output_type": "execute_result"
    }
   ],
   "source": [
    "# We print the last 5 lines\n",
    "final_numerical_df.tail()"
   ]
  },
  {
   "cell_type": "code",
   "execution_count": 45,
   "metadata": {},
   "outputs": [],
   "source": [
    "# Finally, we call the compute () function to return the dataset to the pandas format.DataFrame\n",
    "# final_df = final_numerical_df.compute ()"
   ]
  },
  {
   "cell_type": "markdown",
   "metadata": {},
   "source": [
    "## Analyze:\n",
    "\n",
    "### Thanks to the Dashboard, we can get a good idea of how Dask operates."
   ]
  },
  {
   "cell_type": "markdown",
   "metadata": {},
   "source": [
    "<img src=\"Images/dash_dask4.png\">"
   ]
  },
  {
   "cell_type": "markdown",
   "metadata": {},
   "source": [
    "<img src=\"Images/dash_dask3.png\">"
   ]
  },
  {
   "cell_type": "markdown",
   "metadata": {},
   "source": [
    "Four workers were set up, with a 2GB memory limit for each.\n",
    "\n",
    " In **Image 1**, we can see how much memory has already been allocated for each worker, and the amount of partitions on which the replace () method has already been applied.\n",
    "\n",
    " In **Image 2**, we have how many CPU resources are being used separated by thread.\n",
    "\n",
    " It is worth mentioning that I exceeded the memory limit several times, causing my computer to freeze, or causing Dask to generate an error, due to an excess of workers exceeding the stipulated memory limit for each. So, looking at the Dashboard in each case, and trying to cut the dataset in different sizes, I realized that repartitioning the data in 10000 worked well with my machine's level of processing.\n",
    "\n",
    " However, even with Dask optimization, applying the dictionary to all 5 million samples would take an enormous amount of time. Since I believe this is not the point of this question, I have started a second analysis below.\n",
    "\n",
    " The purpose of this second analysis is to compare the performance of the native methods of pandas.DataFrame with the methods of dask.DataFrame."
   ]
  },
  {
   "cell_type": "code",
   "execution_count": 51,
   "metadata": {},
   "outputs": [],
   "source": [
    "# In this case, we convert directly from Pandas to Dask, selecting a certain amount of samples.\n",
    "dask_df = dd.from_pandas(df_typeless.iloc[:5000], npartitions=10)"
   ]
  },
  {
   "cell_type": "code",
   "execution_count": 52,
   "metadata": {},
   "outputs": [],
   "source": [
    "# We allocate the same number of samples in the panda format.\n",
    "pandas_df = df_typeless.iloc[:5000].copy()"
   ]
  },
  {
   "cell_type": "code",
   "execution_count": 53,
   "metadata": {},
   "outputs": [],
   "source": [
    "# The time library is imported to time the processing time\n",
    "import time"
   ]
  },
  {
   "cell_type": "code",
   "execution_count": 54,
   "metadata": {},
   "outputs": [],
   "source": [
    "# Processing Time for the native Pandas method\n",
    "start_pd = time.time()\n",
    "pandas_dff = pandas_df.replace(dictio_segment)\n",
    "end_pd = time.time()"
   ]
  },
  {
   "cell_type": "code",
   "execution_count": 55,
   "metadata": {},
   "outputs": [],
   "source": [
    "# Processing Time for the Dask method\n",
    "start_dd = time.time()\n",
    "dask_dff = dask_df.compute()\n",
    "end_dd = time.time()"
   ]
  },
  {
   "cell_type": "code",
   "execution_count": 56,
   "metadata": {},
   "outputs": [
    {
     "name": "stdout",
     "output_type": "stream",
     "text": [
      "Utilizando o método com Pandas: --------\n",
      "Tempo de processamento para 5000 samples: 15.416930 segs \n",
      "\n",
      "Utilizando o método com Dask: --------\n",
      "Tempo de processamento para 5000 samples: 2.220998 segs\n"
     ]
    }
   ],
   "source": [
    "print ('Using the method with Pandas: --------')\n",
    "print ('Processing time for 5000 samples:% f secs \\n'% (end_pd-start_pd))\n",
    "print ('Using the method with Dask: --------')\n",
    "print ('Processing time for 5000 samples:% f secs'% (end_dd-start_dd))"
   ]
  },
  {
   "cell_type": "markdown",
   "metadata": {},
   "source": [
    "## Analyze:\n",
    "\n",
    "  ** Therefore, we can confirm the effectiveness of Dask on Pandas. **"
   ]
  },
  {
   "cell_type": "markdown",
   "metadata": {},
   "source": [
    "## 7- Database\n",
    "\n",
    "- Use the library of preference (PySpark, Dask) to connect and transfer the dataframe to a database (for example, PostgreSQL)\n",
    "- Then perform the tasks below:\n",
    "- Show the total traffic size by region\n",
    "- Show the regions with the biggest traffic jams\n",
    "- Show the total size of traffic by day of the week"
   ]
  },
  {
   "cell_type": "code",
   "execution_count": 57,
   "metadata": {},
   "outputs": [],
   "source": [
    "# The pandas are imported again, just so that question 7 could be run independently of the rest of the\n",
    "# notebook.\n",
    "import pandas as pd\n",
    "\n",
    "# Read CSV\n",
    "engarrafamento = pd.read_csv('Backup_DataSets/engarrafamento.csv')"
   ]
  },
  {
   "cell_type": "code",
   "execution_count": 71,
   "metadata": {},
   "outputs": [
    {
     "data": {
      "text/html": [
       "<div>\n",
       "<style scoped>\n",
       "    .dataframe tbody tr th:only-of-type {\n",
       "        vertical-align: middle;\n",
       "    }\n",
       "\n",
       "    .dataframe tbody tr th {\n",
       "        vertical-align: top;\n",
       "    }\n",
       "\n",
       "    .dataframe thead th {\n",
       "        text-align: right;\n",
       "    }\n",
       "</style>\n",
       "<table border=\"1\" class=\"dataframe\">\n",
       "  <thead>\n",
       "    <tr style=\"text-align: right;\">\n",
       "      <th></th>\n",
       "      <th>Unnamed: 0</th>\n",
       "      <th>index</th>\n",
       "      <th>passage</th>\n",
       "      <th>direction</th>\n",
       "      <th>region</th>\n",
       "      <th>timestamp</th>\n",
       "      <th>jam_size</th>\n",
       "      <th>segment</th>\n",
       "      <th>year</th>\n",
       "      <th>month</th>\n",
       "      <th>weekday</th>\n",
       "      <th>hour</th>\n",
       "    </tr>\n",
       "  </thead>\n",
       "  <tbody>\n",
       "    <tr>\n",
       "      <th>0</th>\n",
       "      <td>0</td>\n",
       "      <td>0</td>\n",
       "      <td>Jânio Quadros, Túnel</td>\n",
       "      <td>unico//</td>\n",
       "      <td>OESTE</td>\n",
       "      <td>2015-01-04 14:30:00</td>\n",
       "      <td>799</td>\n",
       "      <td>De OSCAR AMERICANO até  JUSCELINO KUBITSCHEK</td>\n",
       "      <td>2015</td>\n",
       "      <td>January</td>\n",
       "      <td>Sunday</td>\n",
       "      <td>14</td>\n",
       "    </tr>\n",
       "    <tr>\n",
       "      <th>1</th>\n",
       "      <td>1</td>\n",
       "      <td>1</td>\n",
       "      <td>Juscelino Kubitschek, Av Pres</td>\n",
       "      <td>Ibirapuera/Pinheiros</td>\n",
       "      <td>SUL</td>\n",
       "      <td>2015-01-04 14:30:00</td>\n",
       "      <td>260</td>\n",
       "      <td>De  Emboque Túnel Jânio Quadros até 290 m depo...</td>\n",
       "      <td>2015</td>\n",
       "      <td>January</td>\n",
       "      <td>Sunday</td>\n",
       "      <td>14</td>\n",
       "    </tr>\n",
       "    <tr>\n",
       "      <th>2</th>\n",
       "      <td>2</td>\n",
       "      <td>2</td>\n",
       "      <td>Jânio Quadros, Túnel</td>\n",
       "      <td>unico//</td>\n",
       "      <td>OESTE</td>\n",
       "      <td>2015-01-04 15:00:00</td>\n",
       "      <td>799</td>\n",
       "      <td>De OSCAR AMERICANO até  JUSCELINO KUBITSCHEK</td>\n",
       "      <td>2015</td>\n",
       "      <td>January</td>\n",
       "      <td>Sunday</td>\n",
       "      <td>15</td>\n",
       "    </tr>\n",
       "    <tr>\n",
       "      <th>3</th>\n",
       "      <td>3</td>\n",
       "      <td>3</td>\n",
       "      <td>Juscelino Kubitschek, Av Pres</td>\n",
       "      <td>Ibirapuera/Pinheiros</td>\n",
       "      <td>SUL</td>\n",
       "      <td>2015-01-04 15:00:00</td>\n",
       "      <td>260</td>\n",
       "      <td>De  Emboque Túnel Jânio Quadros até 290 m depo...</td>\n",
       "      <td>2015</td>\n",
       "      <td>January</td>\n",
       "      <td>Sunday</td>\n",
       "      <td>15</td>\n",
       "    </tr>\n",
       "    <tr>\n",
       "      <th>4</th>\n",
       "      <td>4</td>\n",
       "      <td>4</td>\n",
       "      <td>Jânio Quadros, Túnel</td>\n",
       "      <td>unico//</td>\n",
       "      <td>OESTE</td>\n",
       "      <td>2015-01-04 15:30:00</td>\n",
       "      <td>799</td>\n",
       "      <td>De OSCAR AMERICANO até  JUSCELINO KUBITSCHEK</td>\n",
       "      <td>2015</td>\n",
       "      <td>January</td>\n",
       "      <td>Sunday</td>\n",
       "      <td>15</td>\n",
       "    </tr>\n",
       "    <tr>\n",
       "      <th>...</th>\n",
       "      <td>...</td>\n",
       "      <td>...</td>\n",
       "      <td>...</td>\n",
       "      <td>...</td>\n",
       "      <td>...</td>\n",
       "      <td>...</td>\n",
       "      <td>...</td>\n",
       "      <td>...</td>\n",
       "      <td>...</td>\n",
       "      <td>...</td>\n",
       "      <td>...</td>\n",
       "      <td>...</td>\n",
       "    </tr>\n",
       "    <tr>\n",
       "      <th>5223443</th>\n",
       "      <td>5223443</td>\n",
       "      <td>230195</td>\n",
       "      <td>Marginal Pinheiros</td>\n",
       "      <td>Interlagos/Castelo</td>\n",
       "      <td>OESTE</td>\n",
       "      <td>2018-09-30 18:30:00</td>\n",
       "      <td>3820</td>\n",
       "      <td>De CIDADE UNIVERSITARIA até 350 m depois de JU...</td>\n",
       "      <td>2018</td>\n",
       "      <td>September</td>\n",
       "      <td>Sunday</td>\n",
       "      <td>18</td>\n",
       "    </tr>\n",
       "    <tr>\n",
       "      <th>5223444</th>\n",
       "      <td>5223444</td>\n",
       "      <td>230196</td>\n",
       "      <td>Marginal Pinheiros</td>\n",
       "      <td>Interlagos/Castelo</td>\n",
       "      <td>OESTE</td>\n",
       "      <td>2018-09-30 19:00:00</td>\n",
       "      <td>4640</td>\n",
       "      <td>De CIDADE UNIVERSITARIA até 700 m depois de QU...</td>\n",
       "      <td>2018</td>\n",
       "      <td>September</td>\n",
       "      <td>Sunday</td>\n",
       "      <td>19</td>\n",
       "    </tr>\n",
       "    <tr>\n",
       "      <th>5223445</th>\n",
       "      <td>5223445</td>\n",
       "      <td>230197</td>\n",
       "      <td>Marginal Pinheiros</td>\n",
       "      <td>Interlagos/Castelo</td>\n",
       "      <td>OESTE</td>\n",
       "      <td>2018-09-30 19:00:00</td>\n",
       "      <td>3820</td>\n",
       "      <td>De CIDADE UNIVERSITARIA até 350 m depois de JU...</td>\n",
       "      <td>2018</td>\n",
       "      <td>September</td>\n",
       "      <td>Sunday</td>\n",
       "      <td>19</td>\n",
       "    </tr>\n",
       "    <tr>\n",
       "      <th>5223446</th>\n",
       "      <td>5223446</td>\n",
       "      <td>230198</td>\n",
       "      <td>Marginal Pinheiros</td>\n",
       "      <td>Interlagos/Castelo</td>\n",
       "      <td>OESTE</td>\n",
       "      <td>2018-09-30 19:30:00</td>\n",
       "      <td>4640</td>\n",
       "      <td>De CIDADE UNIVERSITARIA até 700 m depois de QU...</td>\n",
       "      <td>2018</td>\n",
       "      <td>September</td>\n",
       "      <td>Sunday</td>\n",
       "      <td>19</td>\n",
       "    </tr>\n",
       "    <tr>\n",
       "      <th>5223447</th>\n",
       "      <td>5223447</td>\n",
       "      <td>230199</td>\n",
       "      <td>Marginal Pinheiros</td>\n",
       "      <td>Interlagos/Castelo</td>\n",
       "      <td>OESTE</td>\n",
       "      <td>2018-09-30 19:30:00</td>\n",
       "      <td>3820</td>\n",
       "      <td>De CIDADE UNIVERSITARIA até 350 m depois de JU...</td>\n",
       "      <td>2018</td>\n",
       "      <td>September</td>\n",
       "      <td>Sunday</td>\n",
       "      <td>19</td>\n",
       "    </tr>\n",
       "  </tbody>\n",
       "</table>\n",
       "<p>5223448 rows × 12 columns</p>\n",
       "</div>"
      ],
      "text/plain": [
       "         Unnamed: 0   index                                   passage  \\\n",
       "0                 0       0  Jânio Quadros, Túnel                       \n",
       "1                 1       1  Juscelino Kubitschek, Av Pres              \n",
       "2                 2       2  Jânio Quadros, Túnel                       \n",
       "3                 3       3  Juscelino Kubitschek, Av Pres              \n",
       "4                 4       4  Jânio Quadros, Túnel                       \n",
       "...             ...     ...                                       ...   \n",
       "5223443     5223443  230195  Marginal Pinheiros                         \n",
       "5223444     5223444  230196  Marginal Pinheiros                         \n",
       "5223445     5223445  230197  Marginal Pinheiros                         \n",
       "5223446     5223446  230198  Marginal Pinheiros                         \n",
       "5223447     5223447  230199  Marginal Pinheiros                         \n",
       "\n",
       "                                        direction region            timestamp  \\\n",
       "0        unico//                                   OESTE  2015-01-04 14:30:00   \n",
       "1        Ibirapuera/Pinheiros                        SUL  2015-01-04 14:30:00   \n",
       "2        unico//                                   OESTE  2015-01-04 15:00:00   \n",
       "3        Ibirapuera/Pinheiros                        SUL  2015-01-04 15:00:00   \n",
       "4        unico//                                   OESTE  2015-01-04 15:30:00   \n",
       "...                                           ...    ...                  ...   \n",
       "5223443  Interlagos/Castelo                        OESTE  2018-09-30 18:30:00   \n",
       "5223444  Interlagos/Castelo                        OESTE  2018-09-30 19:00:00   \n",
       "5223445  Interlagos/Castelo                        OESTE  2018-09-30 19:00:00   \n",
       "5223446  Interlagos/Castelo                        OESTE  2018-09-30 19:30:00   \n",
       "5223447  Interlagos/Castelo                        OESTE  2018-09-30 19:30:00   \n",
       "\n",
       "         jam_size                                            segment  year  \\\n",
       "0             799       De OSCAR AMERICANO até  JUSCELINO KUBITSCHEK  2015   \n",
       "1             260  De  Emboque Túnel Jânio Quadros até 290 m depo...  2015   \n",
       "2             799       De OSCAR AMERICANO até  JUSCELINO KUBITSCHEK  2015   \n",
       "3             260  De  Emboque Túnel Jânio Quadros até 290 m depo...  2015   \n",
       "4             799       De OSCAR AMERICANO até  JUSCELINO KUBITSCHEK  2015   \n",
       "...           ...                                                ...   ...   \n",
       "5223443      3820  De CIDADE UNIVERSITARIA até 350 m depois de JU...  2018   \n",
       "5223444      4640  De CIDADE UNIVERSITARIA até 700 m depois de QU...  2018   \n",
       "5223445      3820  De CIDADE UNIVERSITARIA até 350 m depois de JU...  2018   \n",
       "5223446      4640  De CIDADE UNIVERSITARIA até 700 m depois de QU...  2018   \n",
       "5223447      3820  De CIDADE UNIVERSITARIA até 350 m depois de JU...  2018   \n",
       "\n",
       "             month weekday  hour  \n",
       "0          January  Sunday    14  \n",
       "1          January  Sunday    14  \n",
       "2          January  Sunday    15  \n",
       "3          January  Sunday    15  \n",
       "4          January  Sunday    15  \n",
       "...            ...     ...   ...  \n",
       "5223443  September  Sunday    18  \n",
       "5223444  September  Sunday    19  \n",
       "5223445  September  Sunday    19  \n",
       "5223446  September  Sunday    19  \n",
       "5223447  September  Sunday    19  \n",
       "\n",
       "[5223448 rows x 12 columns]"
      ]
     },
     "execution_count": 71,
     "metadata": {},
     "output_type": "execute_result"
    }
   ],
   "source": [
    "# Sampling\n",
    "engarrafamento"
   ]
  },
  {
   "cell_type": "code",
   "execution_count": 72,
   "metadata": {},
   "outputs": [],
   "source": [
    "# We import the SQL module\n",
    "import sqlite3"
   ]
  },
  {
   "cell_type": "code",
   "execution_count": 73,
   "metadata": {},
   "outputs": [],
   "source": [
    "# We instantiated the Traffic.db database\n",
    "conn = sqlite3.connect('SQL_DB/Traffic.db')  \n",
    "c = conn.cursor()"
   ]
  },
  {
   "cell_type": "code",
   "execution_count": 74,
   "metadata": {},
   "outputs": [],
   "source": [
    "# We generated a TRAFFIC Table to receive the data\n",
    "c.execute('DROP TABLE IF EXISTS TRAFFIC;')\n",
    "c.execute('CREATE TABLE TRAFFIC (Passage text, Direction text, Region text, Timestamp text, Jam_size text, Segment text, Year number, Month text, Weekday text, Hour number)')\n",
    "conn.commit()"
   ]
  },
  {
   "cell_type": "code",
   "execution_count": 75,
   "metadata": {},
   "outputs": [],
   "source": [
    "# We pass the data from the Pandas format to the Traffic.db database, recording them in the TRAFFIC Table structure\n",
    "engarrafamento.iloc[:,2:].to_sql('TRAFFIC', conn, if_exists='replace', index = False) "
   ]
  },
  {
   "cell_type": "code",
   "execution_count": 76,
   "metadata": {},
   "outputs": [],
   "source": [
    "def printSchema(connection):\n",
    "    ### Source: http://stackoverflow.com/a/35092773/4765776\n",
    "    for (tableName,) in connection.execute(\n",
    "        \"\"\"\n",
    "        select NAME from SQLITE_MASTER where TYPE='table' order by NAME;\n",
    "        \"\"\"\n",
    "    ):\n",
    "        print(\"{}:\".format(tableName))\n",
    "        for (\n",
    "            columnID, columnName, columnType,\n",
    "            columnNotNull, columnDefault, columnPK,\n",
    "        ) in connection.execute(\"pragma table_info('{}');\".format(tableName)):\n",
    "            print(\"  {id}: {name}({type}){null}{default}{pk}\".format(\n",
    "                id=columnID,\n",
    "                name=columnName,\n",
    "                type=columnType,\n",
    "                null=\" not null\" if columnNotNull else \"\",\n",
    "                default=\" [{}]\".format(columnDefault) if columnDefault else \"\",\n",
    "                pk=\" *{}\".format(columnPK) if columnPK else \"\",\n",
    "            ))"
   ]
  },
  {
   "cell_type": "code",
   "execution_count": 77,
   "metadata": {},
   "outputs": [
    {
     "name": "stdout",
     "output_type": "stream",
     "text": [
      "Database schema:\n",
      "TRAFFIC:\n",
      "  0: passage(TEXT)\n",
      "  1: direction(TEXT)\n",
      "  2: region(TEXT)\n",
      "  3: timestamp(TEXT)\n",
      "  4: jam_size(INTEGER)\n",
      "  5: segment(TEXT)\n",
      "  6: year(INTEGER)\n",
      "  7: month(TEXT)\n",
      "  8: weekday(TEXT)\n",
      "  9: hour(INTEGER)\n"
     ]
    }
   ],
   "source": [
    "# Database Schema\n",
    "print(\"Database schema:\")\n",
    "printSchema(conn)"
   ]
  },
  {
   "cell_type": "code",
   "execution_count": 96,
   "metadata": {},
   "outputs": [
    {
     "name": "stdout",
     "output_type": "stream",
     "text": [
      "The sql extension is already loaded. To reload it, use:\n",
      "  %reload_ext sql\n"
     ]
    },
    {
     "data": {
      "text/plain": [
       "'Connected: @SQL_DB/Traffic.db'"
      ]
     },
     "execution_count": 96,
     "metadata": {},
     "output_type": "execute_result"
    }
   ],
   "source": [
    "## Remember to install Ipython SQL before: conda install -c conda-forge ipython-sql\n",
    "%load_ext sql\n",
    "%sql sqlite:///SQL_DB/Traffic.db"
   ]
  },
  {
   "cell_type": "markdown",
   "metadata": {},
   "source": [
    "### Show the total Traffic size by region"
   ]
  },
  {
   "cell_type": "code",
   "execution_count": 97,
   "metadata": {},
   "outputs": [
    {
     "name": "stdout",
     "output_type": "stream",
     "text": [
      " * sqlite:///SQL_DB/Traffic.db\n",
      "   sqlite:///Traffic.db\n",
      "Done.\n",
      "Done.\n"
     ]
    },
    {
     "data": {
      "text/plain": [
       "[]"
      ]
     },
     "execution_count": 97,
     "metadata": {},
     "output_type": "execute_result"
    }
   ],
   "source": [
    "%%sql \n",
    "\n",
    "DROP VIEW IF EXISTS traffic_per_region;\n",
    "CREATE VIEW traffic_per_region AS\n",
    "SELECT Region, SUM(jam_size) as Engarrafamento\n",
    "FROM TRAFFIC\n",
    "GROUP BY Region;"
   ]
  },
  {
   "cell_type": "code",
   "execution_count": 98,
   "metadata": {},
   "outputs": [
    {
     "name": "stdout",
     "output_type": "stream",
     "text": [
      " * sqlite:///SQL_DB/Traffic.db\n",
      "   sqlite:///Traffic.db\n",
      "Done.\n"
     ]
    },
    {
     "data": {
      "text/html": [
       "<table>\n",
       "    <thead>\n",
       "        <tr>\n",
       "            <th>region</th>\n",
       "            <th>Engarrafamento</th>\n",
       "        </tr>\n",
       "    </thead>\n",
       "    <tbody>\n",
       "        <tr>\n",
       "            <td>CENTRO</td>\n",
       "            <td>1155013516</td>\n",
       "        </tr>\n",
       "        <tr>\n",
       "            <td>LESTE</td>\n",
       "            <td>903240438</td>\n",
       "        </tr>\n",
       "        <tr>\n",
       "            <td>NORTE</td>\n",
       "            <td>121013614</td>\n",
       "        </tr>\n",
       "        <tr>\n",
       "            <td>NOWHERE</td>\n",
       "            <td>3711787338</td>\n",
       "        </tr>\n",
       "        <tr>\n",
       "            <td>OESTE</td>\n",
       "            <td>992654178</td>\n",
       "        </tr>\n",
       "        <tr>\n",
       "            <td>SUL</td>\n",
       "            <td>708726545</td>\n",
       "        </tr>\n",
       "    </tbody>\n",
       "</table>"
      ],
      "text/plain": [
       "[('CENTRO', 1155013516),\n",
       " ('LESTE', 903240438),\n",
       " ('NORTE', 121013614),\n",
       " ('NOWHERE', 3711787338),\n",
       " ('OESTE', 992654178),\n",
       " ('SUL', 708726545)]"
      ]
     },
     "execution_count": 98,
     "metadata": {},
     "output_type": "execute_result"
    }
   ],
   "source": [
    "%sql SELECT * FROM traffic_per_region;"
   ]
  },
  {
   "cell_type": "code",
   "execution_count": 99,
   "metadata": {},
   "outputs": [
    {
     "data": {
      "text/plain": [
       "region\n",
       "CENTRO     1155013516\n",
       "LESTE       903240438\n",
       "NORTE       121013614\n",
       "NOWHERE    3711787338\n",
       "OESTE       992654178\n",
       "SUL         708726545\n",
       "Name: jam_size, dtype: int64"
      ]
     },
     "execution_count": 99,
     "metadata": {},
     "output_type": "execute_result"
    }
   ],
   "source": [
    "engarrafamento.groupby('region')['jam_size'].sum()"
   ]
  },
  {
   "cell_type": "markdown",
   "metadata": {},
   "source": [
    "### Show the regions with the biggest traffic jams"
   ]
  },
  {
   "cell_type": "code",
   "execution_count": 100,
   "metadata": {},
   "outputs": [
    {
     "name": "stdout",
     "output_type": "stream",
     "text": [
      " * sqlite:///SQL_DB/Traffic.db\n",
      "   sqlite:///Traffic.db\n",
      "Done.\n",
      "Done.\n"
     ]
    },
    {
     "data": {
      "text/plain": [
       "[]"
      ]
     },
     "execution_count": 100,
     "metadata": {},
     "output_type": "execute_result"
    }
   ],
   "source": [
    "%%sql \n",
    "\n",
    "DROP VIEW IF EXISTS top_traffic_per_region;\n",
    "CREATE VIEW top_traffic_per_region AS\n",
    "SELECT Region, SUM(jam_size) as Engarrafamento\n",
    "FROM TRAFFIC\n",
    "GROUP BY Region\n",
    "ORDER BY Engarrafamento DESC;"
   ]
  },
  {
   "cell_type": "code",
   "execution_count": 101,
   "metadata": {},
   "outputs": [
    {
     "name": "stdout",
     "output_type": "stream",
     "text": [
      " * sqlite:///SQL_DB/Traffic.db\n",
      "   sqlite:///Traffic.db\n",
      "Done.\n"
     ]
    },
    {
     "data": {
      "text/html": [
       "<table>\n",
       "    <thead>\n",
       "        <tr>\n",
       "            <th>region</th>\n",
       "            <th>Engarrafamento</th>\n",
       "        </tr>\n",
       "    </thead>\n",
       "    <tbody>\n",
       "        <tr>\n",
       "            <td>NOWHERE</td>\n",
       "            <td>3711787338</td>\n",
       "        </tr>\n",
       "        <tr>\n",
       "            <td>CENTRO</td>\n",
       "            <td>1155013516</td>\n",
       "        </tr>\n",
       "        <tr>\n",
       "            <td>OESTE</td>\n",
       "            <td>992654178</td>\n",
       "        </tr>\n",
       "    </tbody>\n",
       "</table>"
      ],
      "text/plain": [
       "[('NOWHERE', 3711787338), ('CENTRO', 1155013516), ('OESTE', 992654178)]"
      ]
     },
     "execution_count": 101,
     "metadata": {},
     "output_type": "execute_result"
    }
   ],
   "source": [
    "%sql SELECT * FROM top_traffic_per_region limit 3;"
   ]
  },
  {
   "cell_type": "code",
   "execution_count": 102,
   "metadata": {},
   "outputs": [
    {
     "data": {
      "text/plain": [
       "region\n",
       "NOWHERE    3711787338\n",
       "CENTRO     1155013516\n",
       "OESTE       992654178\n",
       "Name: jam_size, dtype: int64"
      ]
     },
     "execution_count": 102,
     "metadata": {},
     "output_type": "execute_result"
    }
   ],
   "source": [
    "engarrafamento.groupby('region')['jam_size'].sum().sort_values(ascending=False)[:3]"
   ]
  },
  {
   "cell_type": "markdown",
   "metadata": {},
   "source": [
    "### Show the total traffic size by day of the week"
   ]
  },
  {
   "cell_type": "code",
   "execution_count": 103,
   "metadata": {},
   "outputs": [
    {
     "name": "stdout",
     "output_type": "stream",
     "text": [
      " * sqlite:///SQL_DB/Traffic.db\n",
      "   sqlite:///Traffic.db\n",
      "Done.\n",
      "Done.\n"
     ]
    },
    {
     "data": {
      "text/plain": [
       "[]"
      ]
     },
     "execution_count": 103,
     "metadata": {},
     "output_type": "execute_result"
    }
   ],
   "source": [
    "%%sql \n",
    "\n",
    "DROP VIEW IF EXISTS traffic_per_weekday;\n",
    "CREATE VIEW traffic_per_weekday AS\n",
    "SELECT weekday as Dia, SUM(jam_size) as Engarrafamento\n",
    "FROM TRAFFIC\n",
    "GROUP BY Dia\n",
    "ORDER BY Engarrafamento DESC;"
   ]
  },
  {
   "cell_type": "code",
   "execution_count": 104,
   "metadata": {},
   "outputs": [
    {
     "name": "stdout",
     "output_type": "stream",
     "text": [
      " * sqlite:///SQL_DB/Traffic.db\n",
      "   sqlite:///Traffic.db\n",
      "Done.\n"
     ]
    },
    {
     "data": {
      "text/html": [
       "<table>\n",
       "    <thead>\n",
       "        <tr>\n",
       "            <th>Dia</th>\n",
       "            <th>Engarrafamento</th>\n",
       "        </tr>\n",
       "    </thead>\n",
       "    <tbody>\n",
       "        <tr>\n",
       "            <td>Friday</td>\n",
       "            <td>1815525493</td>\n",
       "        </tr>\n",
       "        <tr>\n",
       "            <td>Thursday</td>\n",
       "            <td>1556886458</td>\n",
       "        </tr>\n",
       "        <tr>\n",
       "            <td>Wednesday</td>\n",
       "            <td>1424963310</td>\n",
       "        </tr>\n",
       "        <tr>\n",
       "            <td>Tuesday</td>\n",
       "            <td>1354811806</td>\n",
       "        </tr>\n",
       "        <tr>\n",
       "            <td>Monday</td>\n",
       "            <td>1191062606</td>\n",
       "        </tr>\n",
       "        <tr>\n",
       "            <td>Saturday</td>\n",
       "            <td>206723907</td>\n",
       "        </tr>\n",
       "        <tr>\n",
       "            <td>Sunday</td>\n",
       "            <td>42462049</td>\n",
       "        </tr>\n",
       "    </tbody>\n",
       "</table>"
      ],
      "text/plain": [
       "[('Friday', 1815525493),\n",
       " ('Thursday', 1556886458),\n",
       " ('Wednesday', 1424963310),\n",
       " ('Tuesday', 1354811806),\n",
       " ('Monday', 1191062606),\n",
       " ('Saturday', 206723907),\n",
       " ('Sunday', 42462049)]"
      ]
     },
     "execution_count": 104,
     "metadata": {},
     "output_type": "execute_result"
    }
   ],
   "source": [
    "%sql SELECT * FROM traffic_per_weekday;"
   ]
  },
  {
   "cell_type": "code",
   "execution_count": 105,
   "metadata": {},
   "outputs": [
    {
     "data": {
      "text/plain": [
       "weekday\n",
       "Friday       1815525493\n",
       "Thursday     1556886458\n",
       "Wednesday    1424963310\n",
       "Tuesday      1354811806\n",
       "Monday       1191062606\n",
       "Saturday      206723907\n",
       "Sunday         42462049\n",
       "Name: jam_size, dtype: int64"
      ]
     },
     "execution_count": 105,
     "metadata": {},
     "output_type": "execute_result"
    }
   ],
   "source": [
    "engarrafamento.groupby('weekday')['jam_size'].sum().sort_values(ascending=False)"
   ]
  }
 ],
 "metadata": {
  "kernelspec": {
   "display_name": "Python 3",
   "language": "python",
   "name": "python3"
  },
  "language_info": {
   "codemirror_mode": {
    "name": "ipython",
    "version": 3
   },
   "file_extension": ".py",
   "mimetype": "text/x-python",
   "name": "python",
   "nbconvert_exporter": "python",
   "pygments_lexer": "ipython3",
   "version": "3.8.5"
  }
 },
 "nbformat": 4,
 "nbformat_minor": 4
}
